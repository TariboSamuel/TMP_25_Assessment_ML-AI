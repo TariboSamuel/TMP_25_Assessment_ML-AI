{
  "cells": [
    {
      "cell_type": "markdown",
      "source": [
        "# Student Performance Classification Using A Deep Neural Network"
      ],
      "metadata": {
        "id": "yJR1Sc-KhTJf"
      },
      "id": "yJR1Sc-KhTJf"
    },
    {
      "cell_type": "markdown",
      "source": [
        "## Table of Contents\n",
        "\n",
        "1. [**Introduction**](#1-introduction)  \n",
        "   - Project Description  \n",
        "   - Data Description  \n",
        "\n",
        "2. [**Acquiring and Loading Data**](#2-acquiring-and-loading-data)  \n",
        "   - Importing Libraries  \n",
        "   - Reading in Data  \n",
        "   - Exploring Data  \n",
        "\n",
        "3. [**Data Cleaning**](#3-data-cleaning)  \n",
        "   - Handling Missing Values  \n",
        "   - Encoding Categorical Variables  \n",
        "   - Target Variable Transformation  \n",
        "   - Feature Selection and Scaling  \n",
        "   - Addressing Class Imbalance  \n",
        "\n",
        "4. [**Data Analysis & Visualization**](#4-data-analysis--visualization)  \n",
        "   - Class Distribution  \n",
        "   - Gender-wise Pass/Fail Analysis  \n",
        "   - Attendance Rate Impact  \n",
        "\n",
        "5. [**Building the Deep Learning Classification Model**](#5-building-the-deep-learning-classification-model)  \n",
        "   \n",
        "   - Compilation Details  \n",
        "\n",
        "6. [**Model Training with Callbacks**](#6-model-training-with-callbacks)  \n",
        "   - EarlyStopping and ReduceLROnPlateau  \n",
        "   - Training History  \n",
        "\n",
        "7. [**Model Evaluation and Performance Visualization**](#7-model-evaluation-and-performance-visualization)  \n",
        "   - Accuracy and Loss Curves  \n",
        "   - Test Set Evaluation  \n",
        "   - Confusion Matrix  \n",
        "   - Classification Report  \n",
        "\n",
        "8. [**Feature Importance Analysis using Permutation**](#8-feature-importance-analysis-using-permutation)  \n",
        "   - Permutation Importance Concept  \n",
        "   - Visualization of Key Features  \n",
        "\n",
        "9. [**Model Saving and Making a Sample Prediction**](#9-model-saving-and-making-a-sample-prediction)  \n",
        "   - Saving Trained Model  \n",
        "   - Generating and Interpreting a Prediction  \n",
        "\n",
        "10. [**Conclusion and Goal Assessment**](#10-conclusion-and-goal-assessment)  \n",
        "    - Summary of Model Performance  \n",
        "    - Evaluation of Project Objective  \n",
        "    - Final Remarks and Recommendations  \n",
        "\n"
      ],
      "metadata": {
        "id": "vsoq1JtKAtOA"
      },
      "id": "vsoq1JtKAtOA"
    },
    {
      "cell_type": "markdown",
      "source": [
        "# 1"
      ],
      "metadata": {
        "id": "U9CY5ioLhsqg"
      },
      "id": "U9CY5ioLhsqg"
    },
    {
      "cell_type": "markdown",
      "source": [
        "## Introduction\n",
        "\n",
        "### Project Description\n",
        "\n",
        "The **Student Performance Prediction** project aims to develop a robust machine learning solution to classify students as either **\"Pass\"** or **\"Fail\"** based on various academic, behavioral, and socio-economic features. This task is part of the **Techcrity ML/AI Assessment 2025** and serves as a practical application of deep learning techniques for binary classification problems.\n",
        "\n",
        "By leveraging a deep neural network with multiple hidden layers, this project explores how internal and external factors contribute to a student's likelihood of success. The end goal is to create an accurate, interpretable model that can assist educators, administrators, and policymakers in identifying students who may need intervention and support to improve academic outcomes.\n",
        "\n",
        "This classification task not only challenges one’s technical capabilities in preprocessing, modeling, and evaluation, but also emphasizes real-world applicability in the domain of educational analytics.\n",
        "\n",
        "---\n",
        "\n",
        "### Data Description\n",
        "\n",
        "The dataset used in this project - **Student Performance Prediction Dataset** is sourced from [Kaggle](https://www.kaggle.com/datasets/amrmaree/student-performance-prediction). It includes detailed records of student characteristics that influence academic performance.\n",
        "\n",
        "#### Key Attributes:\n",
        "\n",
        "| **Feature Name**               | **Description**                                                        |\n",
        "|-------------------------------|------------------------------------------------------------------------|\n",
        "| `Student_ID`                  | Unique identifier for each student                                     |\n",
        "| `Gender`                      | Gender of the student (`Male`, `Female`)                               |\n",
        "| `Study_Hours_per_Week`        | Average weekly study hours                                             |\n",
        "| `Attendance_Rate`             | Student's attendance percentage (`50%` to `100%`)                      |\n",
        "| `Past_Exam_Scores`            | Average scores from previous exams (`50` to `100`)                     |\n",
        "| `Parental_Education_Level`    | Parent's education level (`High School`, `Bachelors`, `Masters`, `PhD`)|\n",
        "| `Internet_Access_at_Home`     | Whether the student has internet access at home (`Yes`, `No`)          |\n",
        "| `Extracurricular_Activities`  | Participation in extracurricular activities (`Yes`, `No`)              |\n",
        "| `Final_Exam_Score` (target)   | Final exam score of the student (integer values from `50` to `100`)    |\n",
        "| `Pass_Fail` (target)          | Final classification label indicating academic status (`Pass`, `Fail`) |\n",
        "\n",
        "The `Pass_Fail` column serves as the **primary classification target**, which is binarized into `1` (Pass) and `0` (Fail). Several categorical features require one-hot encoding, and numerical features are normalized for effective model training.\n",
        "\n",
        "The dataset supports diverse educational analyses, such as understanding the relationship between study habits and success, and evaluating which features most influence performance. Its balanced structure and real-world relevance make it a strong candidate for training deep learning models in classification tasks.\n"
      ],
      "metadata": {
        "id": "6qkaHuHahzpE"
      },
      "id": "6qkaHuHahzpE"
    },
    {
      "cell_type": "markdown",
      "source": [
        "# 2"
      ],
      "metadata": {
        "id": "oSJjRp5Ih4M6"
      },
      "id": "oSJjRp5Ih4M6"
    },
    {
      "cell_type": "markdown",
      "source": [
        "## Acquiring and Loading Data\n",
        "### Library Import\n",
        "\n",
        "Import all necessary Python library here."
      ],
      "metadata": {
        "id": "XFnnjl6Yh8lk"
      },
      "id": "XFnnjl6Yh8lk"
    },
    {
      "cell_type": "code",
      "source": [
        "# Data Handling & Manipulation\n",
        "import pandas as pd\n",
        "import numpy as np\n",
        "\n",
        "# Visualization\n",
        "import matplotlib.pyplot as plt\n",
        "import seaborn as sns\n",
        "\n",
        "# Data Preprocessing & Splitting\n",
        "from sklearn.model_selection import train_test_split\n",
        "from sklearn.preprocessing import StandardScaler, LabelEncoder\n",
        "\n",
        "# Evaluation Metrics\n",
        "from sklearn.metrics import (\n",
        "    classification_report,\n",
        "    confusion_matrix,\n",
        "    accuracy_score,\n",
        "    roc_auc_score\n",
        ")\n",
        "\n",
        "# Handling Imbalanced Data\n",
        "from imblearn.over_sampling import SMOTE\n",
        "\n",
        "# Deep Learning - TensorFlow / Keras\n",
        "import tensorflow as tf\n",
        "from tensorflow.keras.models import Sequential\n",
        "from tensorflow.keras.layers import Dense, Dropout, BatchNormalization\n",
        "from tensorflow.keras.optimizers import Adam\n",
        "from tensorflow.keras.callbacks import EarlyStopping, ReduceLROnPlateau\n",
        "from tensorflow.keras.regularizers import l2\n",
        "from tensorflow.keras.layers import Input\n"
      ],
      "metadata": {
        "id": "-6-4K_rytPcr"
      },
      "id": "-6-4K_rytPcr",
      "execution_count": null,
      "outputs": []
    },
    {
      "cell_type": "markdown",
      "source": [
        "### Reading in Data\n",
        "Import all necessary data here."
      ],
      "metadata": {
        "id": "1hzdWgspuw-H"
      },
      "id": "1hzdWgspuw-H"
    },
    {
      "cell_type": "code",
      "source": [
        "# Load the dataset from the specified file path\n",
        "student_df = pd.read_csv('student_performance_dataset.csv')"
      ],
      "metadata": {
        "id": "ihBmeR90u1XR"
      },
      "id": "ihBmeR90u1XR",
      "execution_count": null,
      "outputs": []
    },
    {
      "cell_type": "markdown",
      "source": [
        "### Exploring Data\n",
        "Conduct an initial inspection of the dataset to understand its structure, identify any missing values or anomalies, and gather descriptive statistics to inform preprocessing and modeling decisions.\n"
      ],
      "metadata": {
        "id": "E2ER9wjVu_B0"
      },
      "id": "E2ER9wjVu_B0"
    },
    {
      "cell_type": "code",
      "source": [
        "# Display the first 5 rows of the dataset to preview its structure\n",
        "student_df.head()"
      ],
      "metadata": {
        "colab": {
          "base_uri": "https://localhost:8080/",
          "height": 226
        },
        "id": "gbNN8G9sz8Xe",
        "outputId": "b2a13fe3-1071-40a3-9f69-e49df15f0df6"
      },
      "id": "gbNN8G9sz8Xe",
      "execution_count": null,
      "outputs": [
        {
          "output_type": "execute_result",
          "data": {
            "text/plain": [
              "  Student_ID  Gender  Study_Hours_per_Week  Attendance_Rate  Past_Exam_Scores  \\\n",
              "0       S147    Male                    31        68.267841                86   \n",
              "1       S136    Male                    16        78.222927                73   \n",
              "2       S209  Female                    21        87.525096                74   \n",
              "3       S458  Female                    27        92.076483                99   \n",
              "4       S078  Female                    37        98.655517                63   \n",
              "\n",
              "  Parental_Education_Level Internet_Access_at_Home Extracurricular_Activities  \\\n",
              "0              High School                     Yes                        Yes   \n",
              "1                      PhD                      No                         No   \n",
              "2                      PhD                     Yes                         No   \n",
              "3                Bachelors                      No                         No   \n",
              "4                  Masters                      No                        Yes   \n",
              "\n",
              "   Final_Exam_Score Pass_Fail  \n",
              "0                63      Pass  \n",
              "1                50      Fail  \n",
              "2                55      Fail  \n",
              "3                65      Pass  \n",
              "4                70      Pass  "
            ],
            "text/html": [
              "\n",
              "  <div id=\"df-122fc72e-2cf8-4398-8ce4-3448d1988f15\" class=\"colab-df-container\">\n",
              "    <div>\n",
              "<style scoped>\n",
              "    .dataframe tbody tr th:only-of-type {\n",
              "        vertical-align: middle;\n",
              "    }\n",
              "\n",
              "    .dataframe tbody tr th {\n",
              "        vertical-align: top;\n",
              "    }\n",
              "\n",
              "    .dataframe thead th {\n",
              "        text-align: right;\n",
              "    }\n",
              "</style>\n",
              "<table border=\"1\" class=\"dataframe\">\n",
              "  <thead>\n",
              "    <tr style=\"text-align: right;\">\n",
              "      <th></th>\n",
              "      <th>Student_ID</th>\n",
              "      <th>Gender</th>\n",
              "      <th>Study_Hours_per_Week</th>\n",
              "      <th>Attendance_Rate</th>\n",
              "      <th>Past_Exam_Scores</th>\n",
              "      <th>Parental_Education_Level</th>\n",
              "      <th>Internet_Access_at_Home</th>\n",
              "      <th>Extracurricular_Activities</th>\n",
              "      <th>Final_Exam_Score</th>\n",
              "      <th>Pass_Fail</th>\n",
              "    </tr>\n",
              "  </thead>\n",
              "  <tbody>\n",
              "    <tr>\n",
              "      <th>0</th>\n",
              "      <td>S147</td>\n",
              "      <td>Male</td>\n",
              "      <td>31</td>\n",
              "      <td>68.267841</td>\n",
              "      <td>86</td>\n",
              "      <td>High School</td>\n",
              "      <td>Yes</td>\n",
              "      <td>Yes</td>\n",
              "      <td>63</td>\n",
              "      <td>Pass</td>\n",
              "    </tr>\n",
              "    <tr>\n",
              "      <th>1</th>\n",
              "      <td>S136</td>\n",
              "      <td>Male</td>\n",
              "      <td>16</td>\n",
              "      <td>78.222927</td>\n",
              "      <td>73</td>\n",
              "      <td>PhD</td>\n",
              "      <td>No</td>\n",
              "      <td>No</td>\n",
              "      <td>50</td>\n",
              "      <td>Fail</td>\n",
              "    </tr>\n",
              "    <tr>\n",
              "      <th>2</th>\n",
              "      <td>S209</td>\n",
              "      <td>Female</td>\n",
              "      <td>21</td>\n",
              "      <td>87.525096</td>\n",
              "      <td>74</td>\n",
              "      <td>PhD</td>\n",
              "      <td>Yes</td>\n",
              "      <td>No</td>\n",
              "      <td>55</td>\n",
              "      <td>Fail</td>\n",
              "    </tr>\n",
              "    <tr>\n",
              "      <th>3</th>\n",
              "      <td>S458</td>\n",
              "      <td>Female</td>\n",
              "      <td>27</td>\n",
              "      <td>92.076483</td>\n",
              "      <td>99</td>\n",
              "      <td>Bachelors</td>\n",
              "      <td>No</td>\n",
              "      <td>No</td>\n",
              "      <td>65</td>\n",
              "      <td>Pass</td>\n",
              "    </tr>\n",
              "    <tr>\n",
              "      <th>4</th>\n",
              "      <td>S078</td>\n",
              "      <td>Female</td>\n",
              "      <td>37</td>\n",
              "      <td>98.655517</td>\n",
              "      <td>63</td>\n",
              "      <td>Masters</td>\n",
              "      <td>No</td>\n",
              "      <td>Yes</td>\n",
              "      <td>70</td>\n",
              "      <td>Pass</td>\n",
              "    </tr>\n",
              "  </tbody>\n",
              "</table>\n",
              "</div>\n",
              "    <div class=\"colab-df-buttons\">\n",
              "\n",
              "  <div class=\"colab-df-container\">\n",
              "    <button class=\"colab-df-convert\" onclick=\"convertToInteractive('df-122fc72e-2cf8-4398-8ce4-3448d1988f15')\"\n",
              "            title=\"Convert this dataframe to an interactive table.\"\n",
              "            style=\"display:none;\">\n",
              "\n",
              "  <svg xmlns=\"http://www.w3.org/2000/svg\" height=\"24px\" viewBox=\"0 -960 960 960\">\n",
              "    <path d=\"M120-120v-720h720v720H120Zm60-500h600v-160H180v160Zm220 220h160v-160H400v160Zm0 220h160v-160H400v160ZM180-400h160v-160H180v160Zm440 0h160v-160H620v160ZM180-180h160v-160H180v160Zm440 0h160v-160H620v160Z\"/>\n",
              "  </svg>\n",
              "    </button>\n",
              "\n",
              "  <style>\n",
              "    .colab-df-container {\n",
              "      display:flex;\n",
              "      gap: 12px;\n",
              "    }\n",
              "\n",
              "    .colab-df-convert {\n",
              "      background-color: #E8F0FE;\n",
              "      border: none;\n",
              "      border-radius: 50%;\n",
              "      cursor: pointer;\n",
              "      display: none;\n",
              "      fill: #1967D2;\n",
              "      height: 32px;\n",
              "      padding: 0 0 0 0;\n",
              "      width: 32px;\n",
              "    }\n",
              "\n",
              "    .colab-df-convert:hover {\n",
              "      background-color: #E2EBFA;\n",
              "      box-shadow: 0px 1px 2px rgba(60, 64, 67, 0.3), 0px 1px 3px 1px rgba(60, 64, 67, 0.15);\n",
              "      fill: #174EA6;\n",
              "    }\n",
              "\n",
              "    .colab-df-buttons div {\n",
              "      margin-bottom: 4px;\n",
              "    }\n",
              "\n",
              "    [theme=dark] .colab-df-convert {\n",
              "      background-color: #3B4455;\n",
              "      fill: #D2E3FC;\n",
              "    }\n",
              "\n",
              "    [theme=dark] .colab-df-convert:hover {\n",
              "      background-color: #434B5C;\n",
              "      box-shadow: 0px 1px 3px 1px rgba(0, 0, 0, 0.15);\n",
              "      filter: drop-shadow(0px 1px 2px rgba(0, 0, 0, 0.3));\n",
              "      fill: #FFFFFF;\n",
              "    }\n",
              "  </style>\n",
              "\n",
              "    <script>\n",
              "      const buttonEl =\n",
              "        document.querySelector('#df-122fc72e-2cf8-4398-8ce4-3448d1988f15 button.colab-df-convert');\n",
              "      buttonEl.style.display =\n",
              "        google.colab.kernel.accessAllowed ? 'block' : 'none';\n",
              "\n",
              "      async function convertToInteractive(key) {\n",
              "        const element = document.querySelector('#df-122fc72e-2cf8-4398-8ce4-3448d1988f15');\n",
              "        const dataTable =\n",
              "          await google.colab.kernel.invokeFunction('convertToInteractive',\n",
              "                                                    [key], {});\n",
              "        if (!dataTable) return;\n",
              "\n",
              "        const docLinkHtml = 'Like what you see? Visit the ' +\n",
              "          '<a target=\"_blank\" href=https://colab.research.google.com/notebooks/data_table.ipynb>data table notebook</a>'\n",
              "          + ' to learn more about interactive tables.';\n",
              "        element.innerHTML = '';\n",
              "        dataTable['output_type'] = 'display_data';\n",
              "        await google.colab.output.renderOutput(dataTable, element);\n",
              "        const docLink = document.createElement('div');\n",
              "        docLink.innerHTML = docLinkHtml;\n",
              "        element.appendChild(docLink);\n",
              "      }\n",
              "    </script>\n",
              "  </div>\n",
              "\n",
              "\n",
              "    <div id=\"df-2f304f8f-5ea7-4aa5-8bff-4b98a71fad32\">\n",
              "      <button class=\"colab-df-quickchart\" onclick=\"quickchart('df-2f304f8f-5ea7-4aa5-8bff-4b98a71fad32')\"\n",
              "                title=\"Suggest charts\"\n",
              "                style=\"display:none;\">\n",
              "\n",
              "<svg xmlns=\"http://www.w3.org/2000/svg\" height=\"24px\"viewBox=\"0 0 24 24\"\n",
              "     width=\"24px\">\n",
              "    <g>\n",
              "        <path d=\"M19 3H5c-1.1 0-2 .9-2 2v14c0 1.1.9 2 2 2h14c1.1 0 2-.9 2-2V5c0-1.1-.9-2-2-2zM9 17H7v-7h2v7zm4 0h-2V7h2v10zm4 0h-2v-4h2v4z\"/>\n",
              "    </g>\n",
              "</svg>\n",
              "      </button>\n",
              "\n",
              "<style>\n",
              "  .colab-df-quickchart {\n",
              "      --bg-color: #E8F0FE;\n",
              "      --fill-color: #1967D2;\n",
              "      --hover-bg-color: #E2EBFA;\n",
              "      --hover-fill-color: #174EA6;\n",
              "      --disabled-fill-color: #AAA;\n",
              "      --disabled-bg-color: #DDD;\n",
              "  }\n",
              "\n",
              "  [theme=dark] .colab-df-quickchart {\n",
              "      --bg-color: #3B4455;\n",
              "      --fill-color: #D2E3FC;\n",
              "      --hover-bg-color: #434B5C;\n",
              "      --hover-fill-color: #FFFFFF;\n",
              "      --disabled-bg-color: #3B4455;\n",
              "      --disabled-fill-color: #666;\n",
              "  }\n",
              "\n",
              "  .colab-df-quickchart {\n",
              "    background-color: var(--bg-color);\n",
              "    border: none;\n",
              "    border-radius: 50%;\n",
              "    cursor: pointer;\n",
              "    display: none;\n",
              "    fill: var(--fill-color);\n",
              "    height: 32px;\n",
              "    padding: 0;\n",
              "    width: 32px;\n",
              "  }\n",
              "\n",
              "  .colab-df-quickchart:hover {\n",
              "    background-color: var(--hover-bg-color);\n",
              "    box-shadow: 0 1px 2px rgba(60, 64, 67, 0.3), 0 1px 3px 1px rgba(60, 64, 67, 0.15);\n",
              "    fill: var(--button-hover-fill-color);\n",
              "  }\n",
              "\n",
              "  .colab-df-quickchart-complete:disabled,\n",
              "  .colab-df-quickchart-complete:disabled:hover {\n",
              "    background-color: var(--disabled-bg-color);\n",
              "    fill: var(--disabled-fill-color);\n",
              "    box-shadow: none;\n",
              "  }\n",
              "\n",
              "  .colab-df-spinner {\n",
              "    border: 2px solid var(--fill-color);\n",
              "    border-color: transparent;\n",
              "    border-bottom-color: var(--fill-color);\n",
              "    animation:\n",
              "      spin 1s steps(1) infinite;\n",
              "  }\n",
              "\n",
              "  @keyframes spin {\n",
              "    0% {\n",
              "      border-color: transparent;\n",
              "      border-bottom-color: var(--fill-color);\n",
              "      border-left-color: var(--fill-color);\n",
              "    }\n",
              "    20% {\n",
              "      border-color: transparent;\n",
              "      border-left-color: var(--fill-color);\n",
              "      border-top-color: var(--fill-color);\n",
              "    }\n",
              "    30% {\n",
              "      border-color: transparent;\n",
              "      border-left-color: var(--fill-color);\n",
              "      border-top-color: var(--fill-color);\n",
              "      border-right-color: var(--fill-color);\n",
              "    }\n",
              "    40% {\n",
              "      border-color: transparent;\n",
              "      border-right-color: var(--fill-color);\n",
              "      border-top-color: var(--fill-color);\n",
              "    }\n",
              "    60% {\n",
              "      border-color: transparent;\n",
              "      border-right-color: var(--fill-color);\n",
              "    }\n",
              "    80% {\n",
              "      border-color: transparent;\n",
              "      border-right-color: var(--fill-color);\n",
              "      border-bottom-color: var(--fill-color);\n",
              "    }\n",
              "    90% {\n",
              "      border-color: transparent;\n",
              "      border-bottom-color: var(--fill-color);\n",
              "    }\n",
              "  }\n",
              "</style>\n",
              "\n",
              "      <script>\n",
              "        async function quickchart(key) {\n",
              "          const quickchartButtonEl =\n",
              "            document.querySelector('#' + key + ' button');\n",
              "          quickchartButtonEl.disabled = true;  // To prevent multiple clicks.\n",
              "          quickchartButtonEl.classList.add('colab-df-spinner');\n",
              "          try {\n",
              "            const charts = await google.colab.kernel.invokeFunction(\n",
              "                'suggestCharts', [key], {});\n",
              "          } catch (error) {\n",
              "            console.error('Error during call to suggestCharts:', error);\n",
              "          }\n",
              "          quickchartButtonEl.classList.remove('colab-df-spinner');\n",
              "          quickchartButtonEl.classList.add('colab-df-quickchart-complete');\n",
              "        }\n",
              "        (() => {\n",
              "          let quickchartButtonEl =\n",
              "            document.querySelector('#df-2f304f8f-5ea7-4aa5-8bff-4b98a71fad32 button');\n",
              "          quickchartButtonEl.style.display =\n",
              "            google.colab.kernel.accessAllowed ? 'block' : 'none';\n",
              "        })();\n",
              "      </script>\n",
              "    </div>\n",
              "\n",
              "    </div>\n",
              "  </div>\n"
            ],
            "application/vnd.google.colaboratory.intrinsic+json": {
              "type": "dataframe",
              "variable_name": "student_df",
              "summary": "{\n  \"name\": \"student_df\",\n  \"rows\": 708,\n  \"fields\": [\n    {\n      \"column\": \"Student_ID\",\n      \"properties\": {\n        \"dtype\": \"string\",\n        \"num_unique_values\": 500,\n        \"samples\": [\n          \"S276\",\n          \"S200\",\n          \"S273\"\n        ],\n        \"semantic_type\": \"\",\n        \"description\": \"\"\n      }\n    },\n    {\n      \"column\": \"Gender\",\n      \"properties\": {\n        \"dtype\": \"category\",\n        \"num_unique_values\": 2,\n        \"samples\": [\n          \"Female\",\n          \"Male\"\n        ],\n        \"semantic_type\": \"\",\n        \"description\": \"\"\n      }\n    },\n    {\n      \"column\": \"Study_Hours_per_Week\",\n      \"properties\": {\n        \"dtype\": \"number\",\n        \"std\": 8,\n        \"min\": 10,\n        \"max\": 39,\n        \"num_unique_values\": 30,\n        \"samples\": [\n          33,\n          14\n        ],\n        \"semantic_type\": \"\",\n        \"description\": \"\"\n      }\n    },\n    {\n      \"column\": \"Attendance_Rate\",\n      \"properties\": {\n        \"dtype\": \"number\",\n        \"std\": 13.802801882804394,\n        \"min\": 50.11696953128892,\n        \"max\": 99.96767497829174,\n        \"num_unique_values\": 500,\n        \"samples\": [\n          86.30477930312003,\n          96.64690335499772\n        ],\n        \"semantic_type\": \"\",\n        \"description\": \"\"\n      }\n    },\n    {\n      \"column\": \"Past_Exam_Scores\",\n      \"properties\": {\n        \"dtype\": \"number\",\n        \"std\": 14,\n        \"min\": 50,\n        \"max\": 100,\n        \"num_unique_values\": 51,\n        \"samples\": [\n          75,\n          89\n        ],\n        \"semantic_type\": \"\",\n        \"description\": \"\"\n      }\n    },\n    {\n      \"column\": \"Parental_Education_Level\",\n      \"properties\": {\n        \"dtype\": \"category\",\n        \"num_unique_values\": 4,\n        \"samples\": [\n          \"PhD\",\n          \"Masters\"\n        ],\n        \"semantic_type\": \"\",\n        \"description\": \"\"\n      }\n    },\n    {\n      \"column\": \"Internet_Access_at_Home\",\n      \"properties\": {\n        \"dtype\": \"category\",\n        \"num_unique_values\": 2,\n        \"samples\": [\n          \"No\",\n          \"Yes\"\n        ],\n        \"semantic_type\": \"\",\n        \"description\": \"\"\n      }\n    },\n    {\n      \"column\": \"Extracurricular_Activities\",\n      \"properties\": {\n        \"dtype\": \"category\",\n        \"num_unique_values\": 2,\n        \"samples\": [\n          \"No\",\n          \"Yes\"\n        ],\n        \"semantic_type\": \"\",\n        \"description\": \"\"\n      }\n    },\n    {\n      \"column\": \"Final_Exam_Score\",\n      \"properties\": {\n        \"dtype\": \"number\",\n        \"std\": 6,\n        \"min\": 50,\n        \"max\": 77,\n        \"num_unique_values\": 27,\n        \"samples\": [\n          59,\n          71\n        ],\n        \"semantic_type\": \"\",\n        \"description\": \"\"\n      }\n    },\n    {\n      \"column\": \"Pass_Fail\",\n      \"properties\": {\n        \"dtype\": \"category\",\n        \"num_unique_values\": 2,\n        \"samples\": [\n          \"Fail\",\n          \"Pass\"\n        ],\n        \"semantic_type\": \"\",\n        \"description\": \"\"\n      }\n    }\n  ]\n}"
            }
          },
          "metadata": {},
          "execution_count": 3
        }
      ]
    },
    {
      "cell_type": "code",
      "source": [
        "# Display summary information about the dataset, including column data types and non-null counts\n",
        "student_df.info()"
      ],
      "metadata": {
        "colab": {
          "base_uri": "https://localhost:8080/"
        },
        "id": "BvxbAJ9S0Xqh",
        "outputId": "b6d74de1-291f-4a95-cfac-cbfbe930e6f9"
      },
      "id": "BvxbAJ9S0Xqh",
      "execution_count": null,
      "outputs": [
        {
          "output_type": "stream",
          "name": "stdout",
          "text": [
            "<class 'pandas.core.frame.DataFrame'>\n",
            "RangeIndex: 708 entries, 0 to 707\n",
            "Data columns (total 10 columns):\n",
            " #   Column                      Non-Null Count  Dtype  \n",
            "---  ------                      --------------  -----  \n",
            " 0   Student_ID                  708 non-null    object \n",
            " 1   Gender                      708 non-null    object \n",
            " 2   Study_Hours_per_Week        708 non-null    int64  \n",
            " 3   Attendance_Rate             708 non-null    float64\n",
            " 4   Past_Exam_Scores            708 non-null    int64  \n",
            " 5   Parental_Education_Level    708 non-null    object \n",
            " 6   Internet_Access_at_Home     708 non-null    object \n",
            " 7   Extracurricular_Activities  708 non-null    object \n",
            " 8   Final_Exam_Score            708 non-null    int64  \n",
            " 9   Pass_Fail                   708 non-null    object \n",
            "dtypes: float64(1), int64(3), object(6)\n",
            "memory usage: 55.4+ KB\n"
          ]
        }
      ]
    },
    {
      "cell_type": "markdown",
      "source": [
        ">From the `.info()` output above, it appears that there are no missing values in the dataset.\n",
        "To verify this explicitly, we'll use `.isnull().sum()` to check for any null values in each column."
      ],
      "metadata": {
        "id": "6GplD0IO0ahp"
      },
      "id": "6GplD0IO0ahp"
    },
    {
      "cell_type": "code",
      "source": [
        "# Check for missing values in each column of the dataset\n",
        "student_df.isnull().sum()"
      ],
      "metadata": {
        "colab": {
          "base_uri": "https://localhost:8080/",
          "height": 398
        },
        "id": "dYt0Or-i0e-e",
        "outputId": "c4707616-80b6-4acd-8a78-73b9eb683fc4"
      },
      "id": "dYt0Or-i0e-e",
      "execution_count": null,
      "outputs": [
        {
          "output_type": "execute_result",
          "data": {
            "text/plain": [
              "Student_ID                    0\n",
              "Gender                        0\n",
              "Study_Hours_per_Week          0\n",
              "Attendance_Rate               0\n",
              "Past_Exam_Scores              0\n",
              "Parental_Education_Level      0\n",
              "Internet_Access_at_Home       0\n",
              "Extracurricular_Activities    0\n",
              "Final_Exam_Score              0\n",
              "Pass_Fail                     0\n",
              "dtype: int64"
            ],
            "text/html": [
              "<div>\n",
              "<style scoped>\n",
              "    .dataframe tbody tr th:only-of-type {\n",
              "        vertical-align: middle;\n",
              "    }\n",
              "\n",
              "    .dataframe tbody tr th {\n",
              "        vertical-align: top;\n",
              "    }\n",
              "\n",
              "    .dataframe thead th {\n",
              "        text-align: right;\n",
              "    }\n",
              "</style>\n",
              "<table border=\"1\" class=\"dataframe\">\n",
              "  <thead>\n",
              "    <tr style=\"text-align: right;\">\n",
              "      <th></th>\n",
              "      <th>0</th>\n",
              "    </tr>\n",
              "  </thead>\n",
              "  <tbody>\n",
              "    <tr>\n",
              "      <th>Student_ID</th>\n",
              "      <td>0</td>\n",
              "    </tr>\n",
              "    <tr>\n",
              "      <th>Gender</th>\n",
              "      <td>0</td>\n",
              "    </tr>\n",
              "    <tr>\n",
              "      <th>Study_Hours_per_Week</th>\n",
              "      <td>0</td>\n",
              "    </tr>\n",
              "    <tr>\n",
              "      <th>Attendance_Rate</th>\n",
              "      <td>0</td>\n",
              "    </tr>\n",
              "    <tr>\n",
              "      <th>Past_Exam_Scores</th>\n",
              "      <td>0</td>\n",
              "    </tr>\n",
              "    <tr>\n",
              "      <th>Parental_Education_Level</th>\n",
              "      <td>0</td>\n",
              "    </tr>\n",
              "    <tr>\n",
              "      <th>Internet_Access_at_Home</th>\n",
              "      <td>0</td>\n",
              "    </tr>\n",
              "    <tr>\n",
              "      <th>Extracurricular_Activities</th>\n",
              "      <td>0</td>\n",
              "    </tr>\n",
              "    <tr>\n",
              "      <th>Final_Exam_Score</th>\n",
              "      <td>0</td>\n",
              "    </tr>\n",
              "    <tr>\n",
              "      <th>Pass_Fail</th>\n",
              "      <td>0</td>\n",
              "    </tr>\n",
              "  </tbody>\n",
              "</table>\n",
              "</div><br><label><b>dtype:</b> int64</label>"
            ]
          },
          "metadata": {},
          "execution_count": 5
        }
      ]
    },
    {
      "cell_type": "markdown",
      "source": [
        ">The dataset `student_df` has been confirmed to contain no missing values.\n",
        "\n"
      ],
      "metadata": {
        "id": "UbqQzCma0lpw"
      },
      "id": "UbqQzCma0lpw"
    },
    {
      "cell_type": "code",
      "source": [
        "# Display basic statistical summaries of numerical columns in the dataset\n",
        "student_df.describe()"
      ],
      "metadata": {
        "colab": {
          "base_uri": "https://localhost:8080/",
          "height": 300
        },
        "id": "PzUqG4hf0qeM",
        "outputId": "003974bc-99f7-4f0e-a03c-204b11b7e6d1"
      },
      "id": "PzUqG4hf0qeM",
      "execution_count": null,
      "outputs": [
        {
          "output_type": "execute_result",
          "data": {
            "text/plain": [
              "       Study_Hours_per_Week  Attendance_Rate  Past_Exam_Scores  \\\n",
              "count            708.000000       708.000000        708.000000   \n",
              "mean              26.132768        78.107722         77.871469   \n",
              "std                8.877727        13.802802         14.402739   \n",
              "min               10.000000        50.116970         50.000000   \n",
              "25%               19.000000        67.550094         65.000000   \n",
              "50%               27.000000        79.363046         79.000000   \n",
              "75%               34.000000        89.504232         91.000000   \n",
              "max               39.000000        99.967675        100.000000   \n",
              "\n",
              "       Final_Exam_Score  \n",
              "count        708.000000  \n",
              "mean          58.771186  \n",
              "std            6.705877  \n",
              "min           50.000000  \n",
              "25%           52.000000  \n",
              "50%           59.500000  \n",
              "75%           64.000000  \n",
              "max           77.000000  "
            ],
            "text/html": [
              "\n",
              "  <div id=\"df-f5ebcb41-b057-4184-82c7-00bdd5be70bd\" class=\"colab-df-container\">\n",
              "    <div>\n",
              "<style scoped>\n",
              "    .dataframe tbody tr th:only-of-type {\n",
              "        vertical-align: middle;\n",
              "    }\n",
              "\n",
              "    .dataframe tbody tr th {\n",
              "        vertical-align: top;\n",
              "    }\n",
              "\n",
              "    .dataframe thead th {\n",
              "        text-align: right;\n",
              "    }\n",
              "</style>\n",
              "<table border=\"1\" class=\"dataframe\">\n",
              "  <thead>\n",
              "    <tr style=\"text-align: right;\">\n",
              "      <th></th>\n",
              "      <th>Study_Hours_per_Week</th>\n",
              "      <th>Attendance_Rate</th>\n",
              "      <th>Past_Exam_Scores</th>\n",
              "      <th>Final_Exam_Score</th>\n",
              "    </tr>\n",
              "  </thead>\n",
              "  <tbody>\n",
              "    <tr>\n",
              "      <th>count</th>\n",
              "      <td>708.000000</td>\n",
              "      <td>708.000000</td>\n",
              "      <td>708.000000</td>\n",
              "      <td>708.000000</td>\n",
              "    </tr>\n",
              "    <tr>\n",
              "      <th>mean</th>\n",
              "      <td>26.132768</td>\n",
              "      <td>78.107722</td>\n",
              "      <td>77.871469</td>\n",
              "      <td>58.771186</td>\n",
              "    </tr>\n",
              "    <tr>\n",
              "      <th>std</th>\n",
              "      <td>8.877727</td>\n",
              "      <td>13.802802</td>\n",
              "      <td>14.402739</td>\n",
              "      <td>6.705877</td>\n",
              "    </tr>\n",
              "    <tr>\n",
              "      <th>min</th>\n",
              "      <td>10.000000</td>\n",
              "      <td>50.116970</td>\n",
              "      <td>50.000000</td>\n",
              "      <td>50.000000</td>\n",
              "    </tr>\n",
              "    <tr>\n",
              "      <th>25%</th>\n",
              "      <td>19.000000</td>\n",
              "      <td>67.550094</td>\n",
              "      <td>65.000000</td>\n",
              "      <td>52.000000</td>\n",
              "    </tr>\n",
              "    <tr>\n",
              "      <th>50%</th>\n",
              "      <td>27.000000</td>\n",
              "      <td>79.363046</td>\n",
              "      <td>79.000000</td>\n",
              "      <td>59.500000</td>\n",
              "    </tr>\n",
              "    <tr>\n",
              "      <th>75%</th>\n",
              "      <td>34.000000</td>\n",
              "      <td>89.504232</td>\n",
              "      <td>91.000000</td>\n",
              "      <td>64.000000</td>\n",
              "    </tr>\n",
              "    <tr>\n",
              "      <th>max</th>\n",
              "      <td>39.000000</td>\n",
              "      <td>99.967675</td>\n",
              "      <td>100.000000</td>\n",
              "      <td>77.000000</td>\n",
              "    </tr>\n",
              "  </tbody>\n",
              "</table>\n",
              "</div>\n",
              "    <div class=\"colab-df-buttons\">\n",
              "\n",
              "  <div class=\"colab-df-container\">\n",
              "    <button class=\"colab-df-convert\" onclick=\"convertToInteractive('df-f5ebcb41-b057-4184-82c7-00bdd5be70bd')\"\n",
              "            title=\"Convert this dataframe to an interactive table.\"\n",
              "            style=\"display:none;\">\n",
              "\n",
              "  <svg xmlns=\"http://www.w3.org/2000/svg\" height=\"24px\" viewBox=\"0 -960 960 960\">\n",
              "    <path d=\"M120-120v-720h720v720H120Zm60-500h600v-160H180v160Zm220 220h160v-160H400v160Zm0 220h160v-160H400v160ZM180-400h160v-160H180v160Zm440 0h160v-160H620v160ZM180-180h160v-160H180v160Zm440 0h160v-160H620v160Z\"/>\n",
              "  </svg>\n",
              "    </button>\n",
              "\n",
              "  <style>\n",
              "    .colab-df-container {\n",
              "      display:flex;\n",
              "      gap: 12px;\n",
              "    }\n",
              "\n",
              "    .colab-df-convert {\n",
              "      background-color: #E8F0FE;\n",
              "      border: none;\n",
              "      border-radius: 50%;\n",
              "      cursor: pointer;\n",
              "      display: none;\n",
              "      fill: #1967D2;\n",
              "      height: 32px;\n",
              "      padding: 0 0 0 0;\n",
              "      width: 32px;\n",
              "    }\n",
              "\n",
              "    .colab-df-convert:hover {\n",
              "      background-color: #E2EBFA;\n",
              "      box-shadow: 0px 1px 2px rgba(60, 64, 67, 0.3), 0px 1px 3px 1px rgba(60, 64, 67, 0.15);\n",
              "      fill: #174EA6;\n",
              "    }\n",
              "\n",
              "    .colab-df-buttons div {\n",
              "      margin-bottom: 4px;\n",
              "    }\n",
              "\n",
              "    [theme=dark] .colab-df-convert {\n",
              "      background-color: #3B4455;\n",
              "      fill: #D2E3FC;\n",
              "    }\n",
              "\n",
              "    [theme=dark] .colab-df-convert:hover {\n",
              "      background-color: #434B5C;\n",
              "      box-shadow: 0px 1px 3px 1px rgba(0, 0, 0, 0.15);\n",
              "      filter: drop-shadow(0px 1px 2px rgba(0, 0, 0, 0.3));\n",
              "      fill: #FFFFFF;\n",
              "    }\n",
              "  </style>\n",
              "\n",
              "    <script>\n",
              "      const buttonEl =\n",
              "        document.querySelector('#df-f5ebcb41-b057-4184-82c7-00bdd5be70bd button.colab-df-convert');\n",
              "      buttonEl.style.display =\n",
              "        google.colab.kernel.accessAllowed ? 'block' : 'none';\n",
              "\n",
              "      async function convertToInteractive(key) {\n",
              "        const element = document.querySelector('#df-f5ebcb41-b057-4184-82c7-00bdd5be70bd');\n",
              "        const dataTable =\n",
              "          await google.colab.kernel.invokeFunction('convertToInteractive',\n",
              "                                                    [key], {});\n",
              "        if (!dataTable) return;\n",
              "\n",
              "        const docLinkHtml = 'Like what you see? Visit the ' +\n",
              "          '<a target=\"_blank\" href=https://colab.research.google.com/notebooks/data_table.ipynb>data table notebook</a>'\n",
              "          + ' to learn more about interactive tables.';\n",
              "        element.innerHTML = '';\n",
              "        dataTable['output_type'] = 'display_data';\n",
              "        await google.colab.output.renderOutput(dataTable, element);\n",
              "        const docLink = document.createElement('div');\n",
              "        docLink.innerHTML = docLinkHtml;\n",
              "        element.appendChild(docLink);\n",
              "      }\n",
              "    </script>\n",
              "  </div>\n",
              "\n",
              "\n",
              "    <div id=\"df-a1366c25-7662-440d-bcde-2d9293f01445\">\n",
              "      <button class=\"colab-df-quickchart\" onclick=\"quickchart('df-a1366c25-7662-440d-bcde-2d9293f01445')\"\n",
              "                title=\"Suggest charts\"\n",
              "                style=\"display:none;\">\n",
              "\n",
              "<svg xmlns=\"http://www.w3.org/2000/svg\" height=\"24px\"viewBox=\"0 0 24 24\"\n",
              "     width=\"24px\">\n",
              "    <g>\n",
              "        <path d=\"M19 3H5c-1.1 0-2 .9-2 2v14c0 1.1.9 2 2 2h14c1.1 0 2-.9 2-2V5c0-1.1-.9-2-2-2zM9 17H7v-7h2v7zm4 0h-2V7h2v10zm4 0h-2v-4h2v4z\"/>\n",
              "    </g>\n",
              "</svg>\n",
              "      </button>\n",
              "\n",
              "<style>\n",
              "  .colab-df-quickchart {\n",
              "      --bg-color: #E8F0FE;\n",
              "      --fill-color: #1967D2;\n",
              "      --hover-bg-color: #E2EBFA;\n",
              "      --hover-fill-color: #174EA6;\n",
              "      --disabled-fill-color: #AAA;\n",
              "      --disabled-bg-color: #DDD;\n",
              "  }\n",
              "\n",
              "  [theme=dark] .colab-df-quickchart {\n",
              "      --bg-color: #3B4455;\n",
              "      --fill-color: #D2E3FC;\n",
              "      --hover-bg-color: #434B5C;\n",
              "      --hover-fill-color: #FFFFFF;\n",
              "      --disabled-bg-color: #3B4455;\n",
              "      --disabled-fill-color: #666;\n",
              "  }\n",
              "\n",
              "  .colab-df-quickchart {\n",
              "    background-color: var(--bg-color);\n",
              "    border: none;\n",
              "    border-radius: 50%;\n",
              "    cursor: pointer;\n",
              "    display: none;\n",
              "    fill: var(--fill-color);\n",
              "    height: 32px;\n",
              "    padding: 0;\n",
              "    width: 32px;\n",
              "  }\n",
              "\n",
              "  .colab-df-quickchart:hover {\n",
              "    background-color: var(--hover-bg-color);\n",
              "    box-shadow: 0 1px 2px rgba(60, 64, 67, 0.3), 0 1px 3px 1px rgba(60, 64, 67, 0.15);\n",
              "    fill: var(--button-hover-fill-color);\n",
              "  }\n",
              "\n",
              "  .colab-df-quickchart-complete:disabled,\n",
              "  .colab-df-quickchart-complete:disabled:hover {\n",
              "    background-color: var(--disabled-bg-color);\n",
              "    fill: var(--disabled-fill-color);\n",
              "    box-shadow: none;\n",
              "  }\n",
              "\n",
              "  .colab-df-spinner {\n",
              "    border: 2px solid var(--fill-color);\n",
              "    border-color: transparent;\n",
              "    border-bottom-color: var(--fill-color);\n",
              "    animation:\n",
              "      spin 1s steps(1) infinite;\n",
              "  }\n",
              "\n",
              "  @keyframes spin {\n",
              "    0% {\n",
              "      border-color: transparent;\n",
              "      border-bottom-color: var(--fill-color);\n",
              "      border-left-color: var(--fill-color);\n",
              "    }\n",
              "    20% {\n",
              "      border-color: transparent;\n",
              "      border-left-color: var(--fill-color);\n",
              "      border-top-color: var(--fill-color);\n",
              "    }\n",
              "    30% {\n",
              "      border-color: transparent;\n",
              "      border-left-color: var(--fill-color);\n",
              "      border-top-color: var(--fill-color);\n",
              "      border-right-color: var(--fill-color);\n",
              "    }\n",
              "    40% {\n",
              "      border-color: transparent;\n",
              "      border-right-color: var(--fill-color);\n",
              "      border-top-color: var(--fill-color);\n",
              "    }\n",
              "    60% {\n",
              "      border-color: transparent;\n",
              "      border-right-color: var(--fill-color);\n",
              "    }\n",
              "    80% {\n",
              "      border-color: transparent;\n",
              "      border-right-color: var(--fill-color);\n",
              "      border-bottom-color: var(--fill-color);\n",
              "    }\n",
              "    90% {\n",
              "      border-color: transparent;\n",
              "      border-bottom-color: var(--fill-color);\n",
              "    }\n",
              "  }\n",
              "</style>\n",
              "\n",
              "      <script>\n",
              "        async function quickchart(key) {\n",
              "          const quickchartButtonEl =\n",
              "            document.querySelector('#' + key + ' button');\n",
              "          quickchartButtonEl.disabled = true;  // To prevent multiple clicks.\n",
              "          quickchartButtonEl.classList.add('colab-df-spinner');\n",
              "          try {\n",
              "            const charts = await google.colab.kernel.invokeFunction(\n",
              "                'suggestCharts', [key], {});\n",
              "          } catch (error) {\n",
              "            console.error('Error during call to suggestCharts:', error);\n",
              "          }\n",
              "          quickchartButtonEl.classList.remove('colab-df-spinner');\n",
              "          quickchartButtonEl.classList.add('colab-df-quickchart-complete');\n",
              "        }\n",
              "        (() => {\n",
              "          let quickchartButtonEl =\n",
              "            document.querySelector('#df-a1366c25-7662-440d-bcde-2d9293f01445 button');\n",
              "          quickchartButtonEl.style.display =\n",
              "            google.colab.kernel.accessAllowed ? 'block' : 'none';\n",
              "        })();\n",
              "      </script>\n",
              "    </div>\n",
              "\n",
              "    </div>\n",
              "  </div>\n"
            ],
            "application/vnd.google.colaboratory.intrinsic+json": {
              "type": "dataframe",
              "summary": "{\n  \"name\": \"student_df\",\n  \"rows\": 8,\n  \"fields\": [\n    {\n      \"column\": \"Study_Hours_per_Week\",\n      \"properties\": {\n        \"dtype\": \"number\",\n        \"std\": 242.26386078074538,\n        \"min\": 8.877726668339886,\n        \"max\": 708.0,\n        \"num_unique_values\": 8,\n        \"samples\": [\n          26.13276836158192,\n          27.0,\n          708.0\n        ],\n        \"semantic_type\": \"\",\n        \"description\": \"\"\n      }\n    },\n    {\n      \"column\": \"Attendance_Rate\",\n      \"properties\": {\n        \"dtype\": \"number\",\n        \"std\": 227.71732373362843,\n        \"min\": 13.802801882804394,\n        \"max\": 708.0,\n        \"num_unique_values\": 8,\n        \"samples\": [\n          78.10772200742244,\n          79.36304570926603,\n          708.0\n        ],\n        \"semantic_type\": \"\",\n        \"description\": \"\"\n      }\n    },\n    {\n      \"column\": \"Past_Exam_Scores\",\n      \"properties\": {\n        \"dtype\": \"number\",\n        \"std\": 227.77590364281826,\n        \"min\": 14.40273939016608,\n        \"max\": 708.0,\n        \"num_unique_values\": 8,\n        \"samples\": [\n          77.87146892655367,\n          79.0,\n          708.0\n        ],\n        \"semantic_type\": \"\",\n        \"description\": \"\"\n      }\n    },\n    {\n      \"column\": \"Final_Exam_Score\",\n      \"properties\": {\n        \"dtype\": \"number\",\n        \"std\": 232.62982274224828,\n        \"min\": 6.7058770275915025,\n        \"max\": 708.0,\n        \"num_unique_values\": 8,\n        \"samples\": [\n          58.771186440677965,\n          59.5,\n          708.0\n        ],\n        \"semantic_type\": \"\",\n        \"description\": \"\"\n      }\n    }\n  ]\n}"
            }
          },
          "metadata": {},
          "execution_count": 6
        }
      ]
    },
    {
      "cell_type": "markdown",
      "source": [
        "#### Observations from the `.describe()` method:\n",
        "- **Study Hours per Week** ranges from 10 to 39 hours, with an average of ~26 hours, indicating a moderate study load for most students.\n",
        "- **Attendance Rate** varies significantly (from ~50% to nearly 100%), showing high diversity in class attendance.\n",
        "- **Past Exam Scores** are fairly high on average (~78), but with considerable spread.\n",
        "- **Final Exam Score** is moderately lower than past scores, with a mean of ~59. This could indicate more difficulty in the final or other influencing factors."
      ],
      "metadata": {
        "id": "zeYP9U9-0_y6"
      },
      "id": "zeYP9U9-0_y6"
    },
    {
      "cell_type": "code",
      "source": [
        "# Display the list of column names in the dataset\n",
        "student_df.columns"
      ],
      "metadata": {
        "colab": {
          "base_uri": "https://localhost:8080/"
        },
        "id": "cV4xJurP2Zsc",
        "outputId": "f86d7ce9-8699-4123-ad48-5c7900fb1dce"
      },
      "id": "cV4xJurP2Zsc",
      "execution_count": null,
      "outputs": [
        {
          "output_type": "execute_result",
          "data": {
            "text/plain": [
              "Index(['Student_ID', 'Gender', 'Study_Hours_per_Week', 'Attendance_Rate',\n",
              "       'Past_Exam_Scores', 'Parental_Education_Level',\n",
              "       'Internet_Access_at_Home', 'Extracurricular_Activities',\n",
              "       'Final_Exam_Score', 'Pass_Fail'],\n",
              "      dtype='object')"
            ]
          },
          "metadata": {},
          "execution_count": 7
        }
      ]
    },
    {
      "cell_type": "markdown",
      "source": [
        "### Saving a copy of the `student_df`\n",
        "\n"
      ],
      "metadata": {
        "id": "BPfieVRAEjNK"
      },
      "id": "BPfieVRAEjNK"
    },
    {
      "cell_type": "code",
      "source": [
        "# to save a clean copy of the student_df\n",
        "student_df_copy = student_df.copy()"
      ],
      "metadata": {
        "id": "y-m-UIY-FG0a"
      },
      "id": "y-m-UIY-FG0a",
      "execution_count": null,
      "outputs": []
    },
    {
      "cell_type": "markdown",
      "source": [
        "# 3"
      ],
      "metadata": {
        "id": "jqsZvst7E2Wn"
      },
      "id": "jqsZvst7E2Wn"
    },
    {
      "cell_type": "markdown",
      "source": [
        "## Data Cleaning\n"
      ],
      "metadata": {
        "id": "suGL8MbWE8Lv"
      },
      "id": "suGL8MbWE8Lv"
    },
    {
      "cell_type": "markdown",
      "source": [
        "### Encode Categorical Variables"
      ],
      "metadata": {
        "id": "Q0RLL3eOG24u"
      },
      "id": "Q0RLL3eOG24u"
    },
    {
      "cell_type": "code",
      "source": [
        "cat_features = ['Gender', 'Parental_Education_Level', 'Internet_Access_at_Home', 'Extracurricular_Activities']\n",
        "for col in cat_features:\n",
        "    le = LabelEncoder()\n",
        "    student_df[col] = le.fit_transform(student_df[col])\n"
      ],
      "metadata": {
        "id": "59y-3X7TGu0c"
      },
      "id": "59y-3X7TGu0c",
      "execution_count": null,
      "outputs": []
    },
    {
      "cell_type": "markdown",
      "source": [
        "### Variable Transformation\n"
      ],
      "metadata": {
        "id": "noIPgY70HFAm"
      },
      "id": "noIPgY70HFAm"
    },
    {
      "cell_type": "code",
      "source": [
        "# Convert Target Variable to Binary\n",
        "student_df['Pass_Fail'] = student_df['Pass_Fail'].map({'Fail': 0, 'Pass': 1})"
      ],
      "metadata": {
        "id": "8pafPWWqHEFb"
      },
      "id": "8pafPWWqHEFb",
      "execution_count": null,
      "outputs": []
    },
    {
      "cell_type": "markdown",
      "source": [
        "### Dropping Columns"
      ],
      "metadata": {
        "id": "67xPfoxTIWJG"
      },
      "id": "67xPfoxTIWJG"
    },
    {
      "cell_type": "code",
      "source": [
        "# Drop Irrelevant Columns to define features and target\n",
        "X = student_df.drop(['Student_ID', 'Pass_Fail', 'Final_Exam_Score'], axis=1)  #features\n",
        "y = student_df['Pass_Fail']                                                  #target variable\n"
      ],
      "metadata": {
        "id": "_anp-vvhIK9a"
      },
      "id": "_anp-vvhIK9a",
      "execution_count": null,
      "outputs": []
    },
    {
      "cell_type": "markdown",
      "source": [
        "### Handle Class Imbalance with SMOTE\n"
      ],
      "metadata": {
        "id": "35vci3y7Ju3d"
      },
      "id": "35vci3y7Ju3d"
    },
    {
      "cell_type": "code",
      "source": [
        "smote = SMOTE(random_state=42)           # Create a SMOTE object\n",
        "X_res, y_res = smote.fit_resample(X, y)  # Apply it to generate balanced data\n"
      ],
      "metadata": {
        "id": "sfE0RMSVImtq"
      },
      "id": "sfE0RMSVImtq",
      "execution_count": null,
      "outputs": []
    },
    {
      "cell_type": "markdown",
      "source": [
        "### Train, Validation, and Test Set Splitting"
      ],
      "metadata": {
        "id": "VLI4oxJRK8cR"
      },
      "id": "VLI4oxJRK8cR"
    },
    {
      "cell_type": "code",
      "source": [
        "# Split Data into Train, Validation, and Test Sets\n",
        "X_train, X_temp, y_train, y_temp = train_test_split(X_res, y_res, test_size=0.4, random_state=42)\n",
        "X_val, X_test, y_val, y_test = train_test_split(X_temp, y_temp, test_size=0.5, random_state=42)"
      ],
      "metadata": {
        "id": "Fqf_JZqbJczs"
      },
      "id": "Fqf_JZqbJczs",
      "execution_count": null,
      "outputs": []
    },
    {
      "cell_type": "markdown",
      "source": [
        "### Feature Scaling with Standardization"
      ],
      "metadata": {
        "id": "R-kZUdpaKY5R"
      },
      "id": "R-kZUdpaKY5R"
    },
    {
      "cell_type": "code",
      "source": [
        "scaler = StandardScaler()                # Create a scaler object\n",
        "X_train = scaler.fit_transform(X_train)  # Fit to training data and transform it\n",
        "X_val = scaler.transform(X_val)          # Transform validation data\n",
        "X_test = scaler.transform(X_test)        # Transform test data"
      ],
      "metadata": {
        "id": "6wKLLs9lKbab"
      },
      "id": "6wKLLs9lKbab",
      "execution_count": null,
      "outputs": []
    },
    {
      "cell_type": "markdown",
      "source": [
        "#4"
      ],
      "metadata": {
        "id": "GnH8llGZfddp"
      },
      "id": "GnH8llGZfddp"
    },
    {
      "cell_type": "markdown",
      "source": [
        "## Data Analysis & Visualization"
      ],
      "metadata": {
        "id": "xrHJ4T_Ufio4"
      },
      "id": "xrHJ4T_Ufio4"
    },
    {
      "cell_type": "markdown",
      "source": [
        "### Pass vs Fail Distribution"
      ],
      "metadata": {
        "id": "bDX_5gys4tFp"
      },
      "id": "bDX_5gys4tFp"
    },
    {
      "cell_type": "code",
      "source": [
        "# Display 'Pass_Fail' Label Distribution (Numerical)\n",
        "print(\"'Pass_Fail' label distribution:\")\n",
        "print(student_df['Pass_Fail'].value_counts())  # Shows count of each class (0: Fail, 1: Pass)\n",
        "\n",
        "# 📉 Visualize the Distribution Using Seaborn Countplot\n",
        "sns.countplot(data=student_df, x='Pass_Fail')\n",
        "plt.title(\"Pass vs Fail Distribution\")         # Set the plot title\n",
        "plt.xlabel(\"Pass_Fail\")                        # Label for x-axis\n",
        "plt.ylabel(\"Number of Students\")               # Label for y-axis\n",
        "plt.tight_layout()                             # Adjusts plot to fit nicely\n",
        "plt.show()                                     # Displays the plot\n"
      ],
      "metadata": {
        "colab": {
          "base_uri": "https://localhost:8080/",
          "height": 581
        },
        "id": "0MhPWYYr4459",
        "outputId": "0d6f237d-d62d-4e0f-a1cb-863b14509470"
      },
      "id": "0MhPWYYr4459",
      "execution_count": null,
      "outputs": [
        {
          "output_type": "stream",
          "name": "stdout",
          "text": [
            "'Pass_Fail' label distribution:\n",
            "Pass_Fail\n",
            "1    354\n",
            "0    354\n",
            "Name: count, dtype: int64\n"
          ]
        },
        {
          "output_type": "display_data",
          "data": {
            "text/plain": [
              "<Figure size 640x480 with 1 Axes>"
            ],
            "image/png": "[encoded data removed]"
          },
          "metadata": {}
        }
      ]
    },
    {
      "cell_type": "markdown",
      "source": [
        "> The graph confirms that the dataset is well-suited for binary classification due to its even distribution of class labels. This balance supports model fairness and enhances predictive performance.\n"
      ],
      "metadata": {
        "id": "fJjY4Fck742h"
      },
      "id": "fJjY4Fck742h"
    },
    {
      "cell_type": "markdown",
      "source": [
        "### Gender vs. Pass/Fail Distribution"
      ],
      "metadata": {
        "id": "QkLXOc9aA0gG"
      },
      "id": "QkLXOc9aA0gG"
    },
    {
      "cell_type": "code",
      "source": [
        "# Create a count plot to show the number of students who passed or failed, separated by gender\n",
        "sns.countplot(data=student_df, x='Gender', hue='Pass_Fail')\n",
        "\n",
        "# Set the title and axis labels for clarity\n",
        "plt.title('Pass vs Fail by Gender')\n",
        "plt.xlabel('Gender')\n",
        "plt.ylabel('Number of Students')\n",
        "\n",
        "# Customize the legend to indicate what 0 and 1 represent\n",
        "plt.legend(title='Outcome', labels=['Fail (0)', 'Pass (1)'])\n",
        "\n",
        "plt.xticks([0, 1], ['Male (0)', 'Female (1)'])  # Custom x-axis labels\n",
        "\n",
        "\n",
        "# Adjust layout to avoid clipping of labels\n",
        "plt.tight_layout()\n",
        "\n",
        "# Display the plot\n",
        "plt.show()\n"
      ],
      "metadata": {
        "colab": {
          "base_uri": "https://localhost:8080/",
          "height": 487
        },
        "id": "t6-D-mJKFnVC",
        "outputId": "add647fd-32a9-4f5d-dc6c-af4fd77085c3"
      },
      "id": "t6-D-mJKFnVC",
      "execution_count": null,
      "outputs": [
        {
          "output_type": "display_data",
          "data": {
            "text/plain": [
              "<Figure size 640x480 with 1 Axes>"
            ],
            "image/png": "[encoded data removed]"
          },
          "metadata": {}
        }
      ]
    },
    {
      "cell_type": "markdown",
      "source": [
        ">This visualization shows that male students have a higher pass rate compared to females in this dataset. Understanding these differences can help identify where targeted academic support may be needed."
      ],
      "metadata": {
        "id": "cEvnGkxaMmb8"
      },
      "id": "cEvnGkxaMmb8"
    },
    {
      "cell_type": "markdown",
      "source": [
        "### Average Attendance Rate By Outcome"
      ],
      "metadata": {
        "id": "oSlfjrRyNSNU"
      },
      "id": "oSlfjrRyNSNU"
    },
    {
      "cell_type": "code",
      "source": [
        "# Calculate average attendance rate for each outcome category (Pass or Fail)\n",
        "# 'Pass_Fail' is the target column where 0 = Fail and 1 = Pass\n",
        "avg_attendance = student_df.groupby('Pass_Fail')['Attendance_Rate'].mean()\n",
        "\n",
        "# Create a bar chart to visualize the average attendance rate for both outcomes\n",
        "avg_attendance.plot(kind='bar', color=['red', 'green'])  # Red for Fail, Green for Pass\n",
        "\n",
        "# Add chart title and axis labels\n",
        "plt.title('Average Attendance Rate by Outcome')\n",
        "plt.xlabel('Outcome (0 = Fail, 1 = Pass)')\n",
        "plt.ylabel('Average Attendance Rate (%)')\n",
        "\n",
        "# Set custom labels for x-axis ticks\n",
        "plt.xticks(ticks=[0, 1], labels=['Fail (0)', 'Pass (1)'], rotation=0)\n",
        "\n",
        "# Set y-axis limit from 0% to 100% for better context\n",
        "plt.ylim(0, 100)\n",
        "\n",
        "# Adjust layout to avoid overlapping elements\n",
        "plt.tight_layout()\n",
        "\n",
        "# Display the final plot\n",
        "plt.show()\n"
      ],
      "metadata": {
        "colab": {
          "base_uri": "https://localhost:8080/",
          "height": 487
        },
        "id": "rKNg1ODEPq3V",
        "outputId": "98ebf072-93a3-419b-ebd1-4a633630b889"
      },
      "id": "rKNg1ODEPq3V",
      "execution_count": null,
      "outputs": [
        {
          "output_type": "display_data",
          "data": {
            "text/plain": [
              "<Figure size 640x480 with 1 Axes>"
            ],
            "image/png": "[encoded data removed]"
          },
          "metadata": {}
        }
      ]
    },
    {
      "cell_type": "markdown",
      "source": [
        ">From the chart above, it can be observed that Students who passed tend to have higher and more consistent attendance rates compared to those who failed."
      ],
      "metadata": {
        "id": "qdUaI8auP_XQ"
      },
      "id": "qdUaI8auP_XQ"
    },
    {
      "cell_type": "markdown",
      "source": [
        "# 5"
      ],
      "metadata": {
        "id": "Yn8NMVerQpnS"
      },
      "id": "Yn8NMVerQpnS"
    },
    {
      "cell_type": "markdown",
      "source": [
        "## Build the Deep Learning Classification Model"
      ],
      "metadata": {
        "id": "ltyeoVycQspr"
      },
      "id": "ltyeoVycQspr"
    },
    {
      "cell_type": "code",
      "source": [
        "def build_model(input_shape):\n",
        "    # Initialize a sequential model\n",
        "    model = Sequential([\n",
        "        # Explicit input layer\n",
        "        Input(shape=(input_shape,)),\n",
        "\n",
        "        # First dense layer with 128 neurons, ReLU activation, and L2 regularization\n",
        "        Dense(128, activation='relu', kernel_regularizer=l2(0.01)),\n",
        "        BatchNormalization(),\n",
        "        Dropout(0.3),\n",
        "\n",
        "        # Second dense layer with 64 neurons and similar regularization and dropout\n",
        "        Dense(64, activation='relu', kernel_regularizer=l2(0.01)),\n",
        "        BatchNormalization(),\n",
        "        Dropout(0.3),\n",
        "\n",
        "        # Third dense layer with 32 neurons and slightly less dropout\n",
        "        Dense(32, activation='relu', kernel_regularizer=l2(0.01)),\n",
        "        BatchNormalization(),\n",
        "        Dropout(0.2),\n",
        "\n",
        "        # Output layer with 1 neuron and sigmoid activation for binary classification\n",
        "        Dense(1, activation='sigmoid')\n",
        "    ])\n",
        "\n",
        "    optimizer = Adam(learning_rate=0.001)\n",
        "\n",
        "    model.compile(\n",
        "        optimizer=optimizer,\n",
        "        loss='binary_crossentropy',\n",
        "        metrics=['accuracy', tf.keras.metrics.AUC(name='auc')]\n",
        "    )\n",
        "\n",
        "    return model\n",
        "\n",
        "# Build the model using the number of features in the training data as input shape\n",
        "model = build_model(X_train.shape[1])\n",
        "\n",
        "# Print the model summary to display the layers and parameters\n",
        "model.summary()"
      ],
      "metadata": {
        "colab": {
          "base_uri": "https://localhost:8080/",
          "height": 512
        },
        "id": "lTw4TUcOdjzK",
        "outputId": "1bac5d87-8ae5-40f0-f991-1bcd2325e887"
      },
      "id": "lTw4TUcOdjzK",
      "execution_count": null,
      "outputs": [
        {
          "output_type": "display_data",
          "data": {
            "text/plain": [
              "\u001b[1mModel: \"sequential_1\"\u001b[0m\n"
            ],
            "text/html": [
              "<pre style=\"white-space:pre;overflow-x:auto;line-height:normal;font-family:Menlo,'DejaVu Sans Mono',consolas,'Courier New',monospace\"><span style=\"font-weight: bold\">Model: \"sequential_1\"</span>\n",
              "</pre>\n"
            ]
          },
          "metadata": {}
        },
        {
          "output_type": "display_data",
          "data": {
            "text/plain": [
              "┏━━━━━━━━━━━━━━━━━━━━━━━━━━━━━━━━━┳━━━━━━━━━━━━━━━━━━━━━━━━┳━━━━━━━━━━━━━━━┓\n",
              "┃\u001b[1m \u001b[0m\u001b[1mLayer (type)                   \u001b[0m\u001b[1m \u001b[0m┃\u001b[1m \u001b[0m\u001b[1mOutput Shape          \u001b[0m\u001b[1m \u001b[0m┃\u001b[1m \u001b[0m\u001b[1m      Param #\u001b[0m\u001b[1m \u001b[0m┃\n",
              "┡━━━━━━━━━━━━━━━━━━━━━━━━━━━━━━━━━╇━━━━━━━━━━━━━━━━━━━━━━━━╇━━━━━━━━━━━━━━━┩\n",
              "│ dense_4 (\u001b[38;5;33mDense\u001b[0m)                 │ (\u001b[38;5;45mNone\u001b[0m, \u001b[38;5;34m128\u001b[0m)            │         \u001b[38;5;34m1,024\u001b[0m │\n",
              "├─────────────────────────────────┼────────────────────────┼───────────────┤\n",
              "│ batch_normalization_3           │ (\u001b[38;5;45mNone\u001b[0m, \u001b[38;5;34m128\u001b[0m)            │           \u001b[38;5;34m512\u001b[0m │\n",
              "│ (\u001b[38;5;33mBatchNormalization\u001b[0m)            │                        │               │\n",
              "├─────────────────────────────────┼────────────────────────┼───────────────┤\n",
              "│ dropout_3 (\u001b[38;5;33mDropout\u001b[0m)             │ (\u001b[38;5;45mNone\u001b[0m, \u001b[38;5;34m128\u001b[0m)            │             \u001b[38;5;34m0\u001b[0m │\n",
              "├─────────────────────────────────┼────────────────────────┼───────────────┤\n",
              "│ dense_5 (\u001b[38;5;33mDense\u001b[0m)                 │ (\u001b[38;5;45mNone\u001b[0m, \u001b[38;5;34m64\u001b[0m)             │         \u001b[38;5;34m8,256\u001b[0m │\n",
              "├─────────────────────────────────┼────────────────────────┼───────────────┤\n",
              "│ batch_normalization_4           │ (\u001b[38;5;45mNone\u001b[0m, \u001b[38;5;34m64\u001b[0m)             │           \u001b[38;5;34m256\u001b[0m │\n",
              "│ (\u001b[38;5;33mBatchNormalization\u001b[0m)            │                        │               │\n",
              "├─────────────────────────────────┼────────────────────────┼───────────────┤\n",
              "│ dropout_4 (\u001b[38;5;33mDropout\u001b[0m)             │ (\u001b[38;5;45mNone\u001b[0m, \u001b[38;5;34m64\u001b[0m)             │             \u001b[38;5;34m0\u001b[0m │\n",
              "├─────────────────────────────────┼────────────────────────┼───────────────┤\n",
              "│ dense_6 (\u001b[38;5;33mDense\u001b[0m)                 │ (\u001b[38;5;45mNone\u001b[0m, \u001b[38;5;34m32\u001b[0m)             │         \u001b[38;5;34m2,080\u001b[0m │\n",
              "├─────────────────────────────────┼────────────────────────┼───────────────┤\n",
              "│ batch_normalization_5           │ (\u001b[38;5;45mNone\u001b[0m, \u001b[38;5;34m32\u001b[0m)             │           \u001b[38;5;34m128\u001b[0m │\n",
              "│ (\u001b[38;5;33mBatchNormalization\u001b[0m)            │                        │               │\n",
              "├─────────────────────────────────┼────────────────────────┼───────────────┤\n",
              "│ dropout_5 (\u001b[38;5;33mDropout\u001b[0m)             │ (\u001b[38;5;45mNone\u001b[0m, \u001b[38;5;34m32\u001b[0m)             │             \u001b[38;5;34m0\u001b[0m │\n",
              "├─────────────────────────────────┼────────────────────────┼───────────────┤\n",
              "│ dense_7 (\u001b[38;5;33mDense\u001b[0m)                 │ (\u001b[38;5;45mNone\u001b[0m, \u001b[38;5;34m1\u001b[0m)              │            \u001b[38;5;34m33\u001b[0m │\n",
              "└─────────────────────────────────┴────────────────────────┴───────────────┘\n"
            ],
            "text/html": [
              "<pre style=\"white-space:pre;overflow-x:auto;line-height:normal;font-family:Menlo,'DejaVu Sans Mono',consolas,'Courier New',monospace\">┏━━━━━━━━━━━━━━━━━━━━━━━━━━━━━━━━━┳━━━━━━━━━━━━━━━━━━━━━━━━┳━━━━━━━━━━━━━━━┓\n",
              "┃<span style=\"font-weight: bold\"> Layer (type)                    </span>┃<span style=\"font-weight: bold\"> Output Shape           </span>┃<span style=\"font-weight: bold\">       Param # </span>┃\n",
              "┡━━━━━━━━━━━━━━━━━━━━━━━━━━━━━━━━━╇━━━━━━━━━━━━━━━━━━━━━━━━╇━━━━━━━━━━━━━━━┩\n",
              "│ dense_4 (<span style=\"color: #0087ff; text-decoration-color: #0087ff\">Dense</span>)                 │ (<span style=\"color: #00d7ff; text-decoration-color: #00d7ff\">None</span>, <span style=\"color: #00af00; text-decoration-color: #00af00\">128</span>)            │         <span style=\"color: #00af00; text-decoration-color: #00af00\">1,024</span> │\n",
              "├─────────────────────────────────┼────────────────────────┼───────────────┤\n",
              "│ batch_normalization_3           │ (<span style=\"color: #00d7ff; text-decoration-color: #00d7ff\">None</span>, <span style=\"color: #00af00; text-decoration-color: #00af00\">128</span>)            │           <span style=\"color: #00af00; text-decoration-color: #00af00\">512</span> │\n",
              "│ (<span style=\"color: #0087ff; text-decoration-color: #0087ff\">BatchNormalization</span>)            │                        │               │\n",
              "├─────────────────────────────────┼────────────────────────┼───────────────┤\n",
              "│ dropout_3 (<span style=\"color: #0087ff; text-decoration-color: #0087ff\">Dropout</span>)             │ (<span style=\"color: #00d7ff; text-decoration-color: #00d7ff\">None</span>, <span style=\"color: #00af00; text-decoration-color: #00af00\">128</span>)            │             <span style=\"color: #00af00; text-decoration-color: #00af00\">0</span> │\n",
              "├─────────────────────────────────┼────────────────────────┼───────────────┤\n",
              "│ dense_5 (<span style=\"color: #0087ff; text-decoration-color: #0087ff\">Dense</span>)                 │ (<span style=\"color: #00d7ff; text-decoration-color: #00d7ff\">None</span>, <span style=\"color: #00af00; text-decoration-color: #00af00\">64</span>)             │         <span style=\"color: #00af00; text-decoration-color: #00af00\">8,256</span> │\n",
              "├─────────────────────────────────┼────────────────────────┼───────────────┤\n",
              "│ batch_normalization_4           │ (<span style=\"color: #00d7ff; text-decoration-color: #00d7ff\">None</span>, <span style=\"color: #00af00; text-decoration-color: #00af00\">64</span>)             │           <span style=\"color: #00af00; text-decoration-color: #00af00\">256</span> │\n",
              "│ (<span style=\"color: #0087ff; text-decoration-color: #0087ff\">BatchNormalization</span>)            │                        │               │\n",
              "├─────────────────────────────────┼────────────────────────┼───────────────┤\n",
              "│ dropout_4 (<span style=\"color: #0087ff; text-decoration-color: #0087ff\">Dropout</span>)             │ (<span style=\"color: #00d7ff; text-decoration-color: #00d7ff\">None</span>, <span style=\"color: #00af00; text-decoration-color: #00af00\">64</span>)             │             <span style=\"color: #00af00; text-decoration-color: #00af00\">0</span> │\n",
              "├─────────────────────────────────┼────────────────────────┼───────────────┤\n",
              "│ dense_6 (<span style=\"color: #0087ff; text-decoration-color: #0087ff\">Dense</span>)                 │ (<span style=\"color: #00d7ff; text-decoration-color: #00d7ff\">None</span>, <span style=\"color: #00af00; text-decoration-color: #00af00\">32</span>)             │         <span style=\"color: #00af00; text-decoration-color: #00af00\">2,080</span> │\n",
              "├─────────────────────────────────┼────────────────────────┼───────────────┤\n",
              "│ batch_normalization_5           │ (<span style=\"color: #00d7ff; text-decoration-color: #00d7ff\">None</span>, <span style=\"color: #00af00; text-decoration-color: #00af00\">32</span>)             │           <span style=\"color: #00af00; text-decoration-color: #00af00\">128</span> │\n",
              "│ (<span style=\"color: #0087ff; text-decoration-color: #0087ff\">BatchNormalization</span>)            │                        │               │\n",
              "├─────────────────────────────────┼────────────────────────┼───────────────┤\n",
              "│ dropout_5 (<span style=\"color: #0087ff; text-decoration-color: #0087ff\">Dropout</span>)             │ (<span style=\"color: #00d7ff; text-decoration-color: #00d7ff\">None</span>, <span style=\"color: #00af00; text-decoration-color: #00af00\">32</span>)             │             <span style=\"color: #00af00; text-decoration-color: #00af00\">0</span> │\n",
              "├─────────────────────────────────┼────────────────────────┼───────────────┤\n",
              "│ dense_7 (<span style=\"color: #0087ff; text-decoration-color: #0087ff\">Dense</span>)                 │ (<span style=\"color: #00d7ff; text-decoration-color: #00d7ff\">None</span>, <span style=\"color: #00af00; text-decoration-color: #00af00\">1</span>)              │            <span style=\"color: #00af00; text-decoration-color: #00af00\">33</span> │\n",
              "└─────────────────────────────────┴────────────────────────┴───────────────┘\n",
              "</pre>\n"
            ]
          },
          "metadata": {}
        },
        {
          "output_type": "display_data",
          "data": {
            "text/plain": [
              "\u001b[1m Total params: \u001b[0m\u001b[38;5;34m12,289\u001b[0m (48.00 KB)\n"
            ],
            "text/html": [
              "<pre style=\"white-space:pre;overflow-x:auto;line-height:normal;font-family:Menlo,'DejaVu Sans Mono',consolas,'Courier New',monospace\"><span style=\"font-weight: bold\"> Total params: </span><span style=\"color: #00af00; text-decoration-color: #00af00\">12,289</span> (48.00 KB)\n",
              "</pre>\n"
            ]
          },
          "metadata": {}
        },
        {
          "output_type": "display_data",
          "data": {
            "text/plain": [
              "\u001b[1m Trainable params: \u001b[0m\u001b[38;5;34m11,841\u001b[0m (46.25 KB)\n"
            ],
            "text/html": [
              "<pre style=\"white-space:pre;overflow-x:auto;line-height:normal;font-family:Menlo,'DejaVu Sans Mono',consolas,'Courier New',monospace\"><span style=\"font-weight: bold\"> Trainable params: </span><span style=\"color: #00af00; text-decoration-color: #00af00\">11,841</span> (46.25 KB)\n",
              "</pre>\n"
            ]
          },
          "metadata": {}
        },
        {
          "output_type": "display_data",
          "data": {
            "text/plain": [
              "\u001b[1m Non-trainable params: \u001b[0m\u001b[38;5;34m448\u001b[0m (1.75 KB)\n"
            ],
            "text/html": [
              "<pre style=\"white-space:pre;overflow-x:auto;line-height:normal;font-family:Menlo,'DejaVu Sans Mono',consolas,'Courier New',monospace\"><span style=\"font-weight: bold\"> Non-trainable params: </span><span style=\"color: #00af00; text-decoration-color: #00af00\">448</span> (1.75 KB)\n",
              "</pre>\n"
            ]
          },
          "metadata": {}
        }
      ]
    },
    {
      "cell_type": "markdown",
      "source": [
        "#6"
      ],
      "metadata": {
        "id": "vhTdm4xZftpG"
      },
      "id": "vhTdm4xZftpG"
    },
    {
      "cell_type": "markdown",
      "source": [
        "## Model Training with Callbacks\n",
        "\n"
      ],
      "metadata": {
        "id": "c207BG-LS6CJ"
      },
      "id": "c207BG-LS6CJ"
    },
    {
      "cell_type": "code",
      "source": [
        "# Define callbacks to improve training\n",
        "\n",
        "# EarlyStopping stops training if validation AUC doesn't improve for 10 epochs\n",
        "# It also restores the best model weights observed during training\n",
        "early_stopping = EarlyStopping(monitor='val_auc', patience=10, restore_best_weights=True, mode='max')\n",
        "\n",
        "# ReduceLROnPlateau reduces the learning rate by a factor of 0.2 if validation loss doesn't improve for 5 epochs\n",
        "# Helps the model converge better by fine-tuning learning rate\n",
        "reduce_lr = ReduceLROnPlateau(monitor='val_loss', factor=0.2, patience=5, min_lr=1e-6)\n",
        "\n",
        "# Train the model using training data with validation\n",
        "history = model.fit(\n",
        "    X_train, y_train,                        # Training features and labels\n",
        "    validation_data=(X_val, y_val),          # Validation data to monitor performance during training\n",
        "    epochs=100,                              # Maximum number of training epochs\n",
        "    batch_size=32,                          # Number of samples per gradient update\n",
        "    callbacks=[early_stopping, reduce_lr], # Callbacks to prevent overfitting and adjust learning rate\n",
        "    verbose=1                               # Show progress bar and training logs\n",
        ")"
      ],
      "metadata": {
        "colab": {
          "base_uri": "https://localhost:8080/"
        },
        "id": "wbPD7rrcTEzj",
        "outputId": "f2392a73-3024-491a-df46-7152ec1bf37c"
      },
      "id": "wbPD7rrcTEzj",
      "execution_count": null,
      "outputs": [
        {
          "output_type": "stream",
          "name": "stdout",
          "text": [
            "Epoch 1/100\n",
            "\u001b[1m14/14\u001b[0m \u001b[32m━━━━━━━━━━━━━━━━━━━━\u001b[0m\u001b[37m\u001b[0m \u001b[1m7s\u001b[0m 73ms/step - accuracy: 0.5598 - auc: 0.5591 - loss: 2.2197 - val_accuracy: 0.7887 - val_auc: 0.8667 - val_loss: 1.9985 - learning_rate: 0.0010\n",
            "Epoch 2/100\n",
            "\u001b[1m14/14\u001b[0m \u001b[32m━━━━━━━━━━━━━━━━━━━━\u001b[0m\u001b[37m\u001b[0m \u001b[1m0s\u001b[0m 15ms/step - accuracy: 0.7542 - auc: 0.8166 - loss: 1.8874 - val_accuracy: 0.8451 - val_auc: 0.9046 - val_loss: 1.9225 - learning_rate: 0.0010\n",
            "Epoch 3/100\n",
            "\u001b[1m14/14\u001b[0m \u001b[32m━━━━━━━━━━━━━━━━━━━━\u001b[0m\u001b[37m\u001b[0m \u001b[1m0s\u001b[0m 16ms/step - accuracy: 0.7887 - auc: 0.8547 - loss: 1.8000 - val_accuracy: 0.8380 - val_auc: 0.9118 - val_loss: 1.8553 - learning_rate: 0.0010\n",
            "Epoch 4/100\n",
            "\u001b[1m14/14\u001b[0m \u001b[32m━━━━━━━━━━━━━━━━━━━━\u001b[0m\u001b[37m\u001b[0m \u001b[1m0s\u001b[0m 17ms/step - accuracy: 0.7580 - auc: 0.8409 - loss: 1.7871 - val_accuracy: 0.8099 - val_auc: 0.9127 - val_loss: 1.7934 - learning_rate: 0.0010\n",
            "Epoch 5/100\n",
            "\u001b[1m14/14\u001b[0m \u001b[32m━━━━━━━━━━━━━━━━━━━━\u001b[0m\u001b[37m\u001b[0m \u001b[1m0s\u001b[0m 14ms/step - accuracy: 0.8180 - auc: 0.9013 - loss: 1.6278 - val_accuracy: 0.8380 - val_auc: 0.9196 - val_loss: 1.7324 - learning_rate: 0.0010\n",
            "Epoch 6/100\n",
            "\u001b[1m14/14\u001b[0m \u001b[32m━━━━━━━━━━━━━━━━━━━━\u001b[0m\u001b[37m\u001b[0m \u001b[1m0s\u001b[0m 16ms/step - accuracy: 0.7962 - auc: 0.8548 - loss: 1.6717 - val_accuracy: 0.8239 - val_auc: 0.9206 - val_loss: 1.6740 - learning_rate: 0.0010\n",
            "Epoch 7/100\n",
            "\u001b[1m14/14\u001b[0m \u001b[32m━━━━━━━━━━━━━━━━━━━━\u001b[0m\u001b[37m\u001b[0m \u001b[1m0s\u001b[0m 15ms/step - accuracy: 0.8328 - auc: 0.9002 - loss: 1.5698 - val_accuracy: 0.8380 - val_auc: 0.9230 - val_loss: 1.6190 - learning_rate: 0.0010\n",
            "Epoch 8/100\n",
            "\u001b[1m14/14\u001b[0m \u001b[32m━━━━━━━━━━━━━━━━━━━━\u001b[0m\u001b[37m\u001b[0m \u001b[1m0s\u001b[0m 17ms/step - accuracy: 0.7619 - auc: 0.8325 - loss: 1.6525 - val_accuracy: 0.8521 - val_auc: 0.9216 - val_loss: 1.5781 - learning_rate: 0.0010\n",
            "Epoch 9/100\n",
            "\u001b[1m14/14\u001b[0m \u001b[32m━━━━━━━━━━━━━━━━━━━━\u001b[0m\u001b[37m\u001b[0m \u001b[1m0s\u001b[0m 16ms/step - accuracy: 0.8300 - auc: 0.9093 - loss: 1.4771 - val_accuracy: 0.8592 - val_auc: 0.9201 - val_loss: 1.5344 - learning_rate: 0.0010\n",
            "Epoch 10/100\n",
            "\u001b[1m14/14\u001b[0m \u001b[32m━━━━━━━━━━━━━━━━━━━━\u001b[0m\u001b[37m\u001b[0m \u001b[1m0s\u001b[0m 16ms/step - accuracy: 0.7872 - auc: 0.8848 - loss: 1.4801 - val_accuracy: 0.8592 - val_auc: 0.9265 - val_loss: 1.4841 - learning_rate: 0.0010\n",
            "Epoch 11/100\n",
            "\u001b[1m14/14\u001b[0m \u001b[32m━━━━━━━━━━━━━━━━━━━━\u001b[0m\u001b[37m\u001b[0m \u001b[1m0s\u001b[0m 15ms/step - accuracy: 0.8232 - auc: 0.9089 - loss: 1.4039 - val_accuracy: 0.8521 - val_auc: 0.9247 - val_loss: 1.4431 - learning_rate: 0.0010\n",
            "Epoch 12/100\n",
            "\u001b[1m14/14\u001b[0m \u001b[32m━━━━━━━━━━━━━━━━━━━━\u001b[0m\u001b[37m\u001b[0m \u001b[1m0s\u001b[0m 18ms/step - accuracy: 0.7924 - auc: 0.8762 - loss: 1.4273 - val_accuracy: 0.8521 - val_auc: 0.9256 - val_loss: 1.4034 - learning_rate: 0.0010\n",
            "Epoch 13/100\n",
            "\u001b[1m14/14\u001b[0m \u001b[32m━━━━━━━━━━━━━━━━━━━━\u001b[0m\u001b[37m\u001b[0m \u001b[1m0s\u001b[0m 22ms/step - accuracy: 0.8219 - auc: 0.9134 - loss: 1.3302 - val_accuracy: 0.8521 - val_auc: 0.9256 - val_loss: 1.3669 - learning_rate: 0.0010\n",
            "Epoch 14/100\n",
            "\u001b[1m14/14\u001b[0m \u001b[32m━━━━━━━━━━━━━━━━━━━━\u001b[0m\u001b[37m\u001b[0m \u001b[1m1s\u001b[0m 29ms/step - accuracy: 0.8373 - auc: 0.9156 - loss: 1.2972 - val_accuracy: 0.8662 - val_auc: 0.9259 - val_loss: 1.3295 - learning_rate: 0.0010\n",
            "Epoch 15/100\n",
            "\u001b[1m14/14\u001b[0m \u001b[32m━━━━━━━━━━━━━━━━━━━━\u001b[0m\u001b[37m\u001b[0m \u001b[1m1s\u001b[0m 23ms/step - accuracy: 0.8307 - auc: 0.9031 - loss: 1.3000 - val_accuracy: 0.8662 - val_auc: 0.9237 - val_loss: 1.2986 - learning_rate: 0.0010\n",
            "Epoch 16/100\n",
            "\u001b[1m14/14\u001b[0m \u001b[32m━━━━━━━━━━━━━━━━━━━━\u001b[0m\u001b[37m\u001b[0m \u001b[1m1s\u001b[0m 31ms/step - accuracy: 0.8121 - auc: 0.8932 - loss: 1.2949 - val_accuracy: 0.8662 - val_auc: 0.9232 - val_loss: 1.2624 - learning_rate: 0.0010\n",
            "Epoch 17/100\n",
            "\u001b[1m14/14\u001b[0m \u001b[32m━━━━━━━━━━━━━━━━━━━━\u001b[0m\u001b[37m\u001b[0m \u001b[1m1s\u001b[0m 30ms/step - accuracy: 0.8098 - auc: 0.8989 - loss: 1.2399 - val_accuracy: 0.8592 - val_auc: 0.9226 - val_loss: 1.2340 - learning_rate: 0.0010\n",
            "Epoch 18/100\n",
            "\u001b[1m14/14\u001b[0m \u001b[32m━━━━━━━━━━━━━━━━━━━━\u001b[0m\u001b[37m\u001b[0m \u001b[1m0s\u001b[0m 17ms/step - accuracy: 0.8278 - auc: 0.9044 - loss: 1.2076 - val_accuracy: 0.8521 - val_auc: 0.9265 - val_loss: 1.2004 - learning_rate: 0.0010\n",
            "Epoch 19/100\n",
            "\u001b[1m14/14\u001b[0m \u001b[32m━━━━━━━━━━━━━━━━━━━━\u001b[0m\u001b[37m\u001b[0m \u001b[1m0s\u001b[0m 15ms/step - accuracy: 0.7992 - auc: 0.8872 - loss: 1.2228 - val_accuracy: 0.8521 - val_auc: 0.9333 - val_loss: 1.1635 - learning_rate: 0.0010\n",
            "Epoch 20/100\n",
            "\u001b[1m14/14\u001b[0m \u001b[32m━━━━━━━━━━━━━━━━━━━━\u001b[0m\u001b[37m\u001b[0m \u001b[1m0s\u001b[0m 15ms/step - accuracy: 0.8010 - auc: 0.9024 - loss: 1.1597 - val_accuracy: 0.8451 - val_auc: 0.9310 - val_loss: 1.1346 - learning_rate: 0.0010\n",
            "Epoch 21/100\n",
            "\u001b[1m14/14\u001b[0m \u001b[32m━━━━━━━━━━━━━━━━━━━━\u001b[0m\u001b[37m\u001b[0m \u001b[1m0s\u001b[0m 18ms/step - accuracy: 0.8376 - auc: 0.9131 - loss: 1.1176 - val_accuracy: 0.8380 - val_auc: 0.9315 - val_loss: 1.1059 - learning_rate: 0.0010\n",
            "Epoch 22/100\n",
            "\u001b[1m14/14\u001b[0m \u001b[32m━━━━━━━━━━━━━━━━━━━━\u001b[0m\u001b[37m\u001b[0m \u001b[1m0s\u001b[0m 16ms/step - accuracy: 0.8180 - auc: 0.8965 - loss: 1.1259 - val_accuracy: 0.8380 - val_auc: 0.9307 - val_loss: 1.0820 - learning_rate: 0.0010\n",
            "Epoch 23/100\n",
            "\u001b[1m14/14\u001b[0m \u001b[32m━━━━━━━━━━━━━━━━━━━━\u001b[0m\u001b[37m\u001b[0m \u001b[1m0s\u001b[0m 15ms/step - accuracy: 0.8005 - auc: 0.9024 - loss: 1.0929 - val_accuracy: 0.8380 - val_auc: 0.9278 - val_loss: 1.0643 - learning_rate: 0.0010\n",
            "Epoch 24/100\n",
            "\u001b[1m14/14\u001b[0m \u001b[32m━━━━━━━━━━━━━━━━━━━━\u001b[0m\u001b[37m\u001b[0m \u001b[1m0s\u001b[0m 15ms/step - accuracy: 0.7990 - auc: 0.8998 - loss: 1.0793 - val_accuracy: 0.8521 - val_auc: 0.9252 - val_loss: 1.0436 - learning_rate: 0.0010\n",
            "Epoch 25/100\n",
            "\u001b[1m14/14\u001b[0m \u001b[32m━━━━━━━━━━━━━━━━━━━━\u001b[0m\u001b[37m\u001b[0m \u001b[1m0s\u001b[0m 15ms/step - accuracy: 0.8215 - auc: 0.9111 - loss: 1.0410 - val_accuracy: 0.8592 - val_auc: 0.9314 - val_loss: 1.0088 - learning_rate: 0.0010\n",
            "Epoch 26/100\n",
            "\u001b[1m14/14\u001b[0m \u001b[32m━━━━━━━━━━━━━━━━━━━━\u001b[0m\u001b[37m\u001b[0m \u001b[1m0s\u001b[0m 16ms/step - accuracy: 0.8357 - auc: 0.9166 - loss: 1.0067 - val_accuracy: 0.8521 - val_auc: 0.9303 - val_loss: 0.9860 - learning_rate: 0.0010\n",
            "Epoch 27/100\n",
            "\u001b[1m14/14\u001b[0m \u001b[32m━━━━━━━━━━━━━━━━━━━━\u001b[0m\u001b[37m\u001b[0m \u001b[1m0s\u001b[0m 16ms/step - accuracy: 0.8213 - auc: 0.9178 - loss: 0.9882 - val_accuracy: 0.8380 - val_auc: 0.9318 - val_loss: 0.9607 - learning_rate: 0.0010\n",
            "Epoch 28/100\n",
            "\u001b[1m14/14\u001b[0m \u001b[32m━━━━━━━━━━━━━━━━━━━━\u001b[0m\u001b[37m\u001b[0m \u001b[1m0s\u001b[0m 18ms/step - accuracy: 0.7881 - auc: 0.8897 - loss: 1.0395 - val_accuracy: 0.8521 - val_auc: 0.9312 - val_loss: 0.9470 - learning_rate: 0.0010\n",
            "Epoch 29/100\n",
            "\u001b[1m14/14\u001b[0m \u001b[32m━━━━━━━━━━━━━━━━━━━━\u001b[0m\u001b[37m\u001b[0m \u001b[1m0s\u001b[0m 15ms/step - accuracy: 0.8327 - auc: 0.9058 - loss: 0.9841 - val_accuracy: 0.8592 - val_auc: 0.9303 - val_loss: 0.9272 - learning_rate: 0.0010\n"
          ]
        }
      ]
    },
    {
      "cell_type": "markdown",
      "source": [
        "#7"
      ],
      "metadata": {
        "id": "LPdVnljFf4nZ"
      },
      "id": "LPdVnljFf4nZ"
    },
    {
      "cell_type": "markdown",
      "source": [
        "## Model Evaluation and Performance Visualization\n"
      ],
      "metadata": {
        "id": "EqS5t7koT37A"
      },
      "id": "EqS5t7koT37A"
    },
    {
      "cell_type": "code",
      "source": [
        "# Function to plot training and validation accuracy and loss over epochs\n",
        "def plot_history(history):\n",
        "    plt.figure(figsize=(12, 4))\n",
        "\n",
        "    # Plot accuracy curves for training and validation\n",
        "    plt.subplot(1, 2, 1)\n",
        "    plt.plot(history.history['accuracy'], label='Train Accuracy')\n",
        "    plt.plot(history.history['val_accuracy'], label='Validation Accuracy')\n",
        "    plt.title('Accuracy over Epochs')\n",
        "    plt.xlabel('Epoch')\n",
        "    plt.ylabel('Accuracy')\n",
        "    plt.legend()\n",
        "\n",
        "    # Plot loss curves for training and validation\n",
        "    plt.subplot(1, 2, 2)\n",
        "    plt.plot(history.history['loss'], label='Train Loss')\n",
        "    plt.plot(history.history['val_loss'], label='Validation Loss')\n",
        "    plt.title('Loss over Epochs')\n",
        "    plt.xlabel('Epoch')\n",
        "    plt.ylabel('Loss')\n",
        "    plt.legend()\n",
        "\n",
        "    plt.tight_layout()\n",
        "    plt.show()\n",
        "\n",
        "# Call the function to visualize training progress\n",
        "plot_history(history)\n",
        "\n",
        "# Evaluate the trained model on the test dataset\n",
        "\n",
        "# Predict probabilities for test data\n",
        "y_pred_prob = model.predict(X_test)\n",
        "\n",
        "# Convert probabilities to binary class predictions (threshold = 0.5)\n",
        "y_pred = (y_pred_prob > 0.5).astype(int)\n",
        "\n",
        "print(\"\\nTest Set Evaluation:\")\n",
        "\n",
        "# Calculate and print accuracy score\n",
        "print(f\"Accuracy: {accuracy_score(y_test, y_pred):.4f}\")\n",
        "\n",
        "# Calculate and print ROC AUC score (measures overall ability to discriminate classes)\n",
        "print(f\"ROC AUC: {roc_auc_score(y_test, y_pred_prob):.4f}\")\n",
        "\n",
        "# Print detailed classification report (precision, recall, f1-score)\n",
        "print(\"\\nClassification Report:\")\n",
        "print(classification_report(y_test, y_pred))\n",
        "\n",
        "# Plot confusion matrix to visualize true vs predicted labels\n",
        "cm = confusion_matrix(y_test, y_pred)\n",
        "plt.figure(figsize=(6, 6))\n",
        "sns.heatmap(cm, annot=True, fmt='d', cmap='Blues',\n",
        "            xticklabels=['Fail', 'Pass'], yticklabels=['Fail', 'Pass'])\n",
        "plt.title('Confusion Matrix')\n",
        "plt.xlabel('Predicted')\n",
        "plt.ylabel('Actual')\n",
        "plt.show()\n"
      ],
      "metadata": {
        "colab": {
          "base_uri": "https://localhost:8080/",
          "height": 1000
        },
        "id": "FSczk19EUL9C",
        "outputId": "397f8917-7ec7-4548-979d-85eb9d4268a1"
      },
      "id": "FSczk19EUL9C",
      "execution_count": null,
      "outputs": [
        {
          "output_type": "display_data",
          "data": {
            "text/plain": [
              "<Figure size 1200x400 with 2 Axes>"
            ],
            "image/png": "[encoded data removed]"
          },
          "metadata": {}
        },
        {
          "output_type": "stream",
          "name": "stdout",
          "text": [
            "\u001b[1m5/5\u001b[0m \u001b[32m━━━━━━━━━━━━━━━━━━━━\u001b[0m\u001b[37m\u001b[0m \u001b[1m0s\u001b[0m 38ms/step\n",
            "\n",
            "Test Set Evaluation:\n",
            "Accuracy: 0.7958\n",
            "ROC AUC: 0.8870\n",
            "\n",
            "Classification Report:\n",
            "              precision    recall  f1-score   support\n",
            "\n",
            "           0       0.77      0.83      0.80        69\n",
            "           1       0.82      0.77      0.79        73\n",
            "\n",
            "    accuracy                           0.80       142\n",
            "   macro avg       0.80      0.80      0.80       142\n",
            "weighted avg       0.80      0.80      0.80       142\n",
            "\n"
          ]
        },
        {
          "output_type": "display_data",
          "data": {
            "text/plain": [
              "<Figure size 600x600 with 2 Axes>"
            ],
            "image/png": "[encoded data removed]"
          },
          "metadata": {}
        }
      ]
    },
    {
      "cell_type": "markdown",
      "source": [
        "#8"
      ],
      "metadata": {
        "id": "G88cbsJzf9uZ"
      },
      "id": "G88cbsJzf9uZ"
    },
    {
      "cell_type": "markdown",
      "source": [
        "##  Feature Importance Analysis using Permutation"
      ],
      "metadata": {
        "id": "EXEIKr4Mc-BG"
      },
      "id": "EXEIKr4Mc-BG"
    },
    {
      "cell_type": "code",
      "source": [
        "# Function to calculate permutation feature importance\n",
        "# This method evaluates the importance of each feature by randomly shuffling its values\n",
        "# and measuring the drop in model performance (accuracy by default).\n",
        "def permutation_importance(model, X, y, metric=accuracy_score, n_repeats=10):\n",
        "    # Baseline performance (e.g., accuracy) of the model on original data\n",
        "    baseline = metric(y, (model.predict(X) > 0.5).astype(int))\n",
        "    importance = []\n",
        "\n",
        "    # Loop through each feature (by index)\n",
        "    for col in range(X.shape[1]):\n",
        "        X_permuted = X.copy()  # Copy the original dataset\n",
        "        permuted_scores = []\n",
        "\n",
        "        # Repeat the permutation multiple times for robustness\n",
        "        for _ in range(n_repeats):\n",
        "            # Shuffle values in the selected column\n",
        "            X_permuted[:, col] = np.random.permutation(X_permuted[:, col])\n",
        "            # Predict and evaluate the model on the permuted data\n",
        "            y_pred = (model.predict(X_permuted) > 0.5).astype(int)\n",
        "            permuted_scores.append(metric(y, y_pred))\n",
        "\n",
        "        # Importance = drop in performance due to permutation\n",
        "        importance.append(baseline - np.mean(permuted_scores))\n",
        "\n",
        "    return np.array(importance)\n",
        "\n",
        "# alcuClate feature importance on the test set\n",
        "feature_importance = permutation_importance(model, X_test, y_test)\n",
        "\n",
        "# Create a DataFrame to display feature names and their importance scores\n",
        "feature_importance_df = pd.DataFrame({\n",
        "    'Feature': X.columns,\n",
        "    'Importance': feature_importance\n",
        "}).sort_values('Importance', ascending=False)\n",
        "\n",
        "# Visualize the permutation-based feature importance\n",
        "plt.figure(figsize=(10, 6))\n",
        "sns.barplot(x='Importance', y='Feature', data=feature_importance_df)\n",
        "plt.title('Feature Importance (Permutation)')\n",
        "plt.tight_layout()\n",
        "plt.show()\n"
      ],
      "metadata": {
        "colab": {
          "base_uri": "https://localhost:8080/",
          "height": 1000
        },
        "id": "4JG4UjIPdMGy",
        "outputId": "73df05f0-cb0b-4515-ed2d-cafbf6f91cb9"
      },
      "id": "4JG4UjIPdMGy",
      "execution_count": null,
      "outputs": [
        {
          "output_type": "stream",
          "name": "stdout",
          "text": [
            "\u001b[1m5/5\u001b[0m \u001b[32m━━━━━━━━━━━━━━━━━━━━\u001b[0m\u001b[37m\u001b[0m \u001b[1m0s\u001b[0m 10ms/step\n",
            "\u001b[1m5/5\u001b[0m \u001b[32m━━━━━━━━━━━━━━━━━━━━\u001b[0m\u001b[37m\u001b[0m \u001b[1m0s\u001b[0m 11ms/step\n",
            "\u001b[1m5/5\u001b[0m \u001b[32m━━━━━━━━━━━━━━━━━━━━\u001b[0m\u001b[37m\u001b[0m \u001b[1m0s\u001b[0m 10ms/step\n",
            "\u001b[1m5/5\u001b[0m \u001b[32m━━━━━━━━━━━━━━━━━━━━\u001b[0m\u001b[37m\u001b[0m \u001b[1m0s\u001b[0m 8ms/step \n",
            "\u001b[1m5/5\u001b[0m \u001b[32m━━━━━━━━━━━━━━━━━━━━\u001b[0m\u001b[37m\u001b[0m \u001b[1m0s\u001b[0m 9ms/step \n",
            "\u001b[1m5/5\u001b[0m \u001b[32m━━━━━━━━━━━━━━━━━━━━\u001b[0m\u001b[37m\u001b[0m \u001b[1m0s\u001b[0m 11ms/step\n",
            "\u001b[1m5/5\u001b[0m \u001b[32m━━━━━━━━━━━━━━━━━━━━\u001b[0m\u001b[37m\u001b[0m \u001b[1m0s\u001b[0m 9ms/step \n",
            "\u001b[1m5/5\u001b[0m \u001b[32m━━━━━━━━━━━━━━━━━━━━\u001b[0m\u001b[37m\u001b[0m \u001b[1m0s\u001b[0m 10ms/step\n",
            "\u001b[1m5/5\u001b[0m \u001b[32m━━━━━━━━━━━━━━━━━━━━\u001b[0m\u001b[37m\u001b[0m \u001b[1m0s\u001b[0m 9ms/step \n",
            "\u001b[1m5/5\u001b[0m \u001b[32m━━━━━━━━━━━━━━━━━━━━\u001b[0m\u001b[37m\u001b[0m \u001b[1m0s\u001b[0m 10ms/step\n",
            "\u001b[1m5/5\u001b[0m \u001b[32m━━━━━━━━━━━━━━━━━━━━\u001b[0m\u001b[37m\u001b[0m \u001b[1m0s\u001b[0m 10ms/step\n",
            "\u001b[1m5/5\u001b[0m \u001b[32m━━━━━━━━━━━━━━━━━━━━\u001b[0m\u001b[37m\u001b[0m \u001b[1m0s\u001b[0m 10ms/step\n",
            "\u001b[1m5/5\u001b[0m \u001b[32m━━━━━━━━━━━━━━━━━━━━\u001b[0m\u001b[37m\u001b[0m \u001b[1m0s\u001b[0m 9ms/step \n",
            "\u001b[1m5/5\u001b[0m \u001b[32m━━━━━━━━━━━━━━━━━━━━\u001b[0m\u001b[37m\u001b[0m \u001b[1m0s\u001b[0m 9ms/step \n",
            "\u001b[1m5/5\u001b[0m \u001b[32m━━━━━━━━━━━━━━━━━━━━\u001b[0m\u001b[37m\u001b[0m \u001b[1m0s\u001b[0m 9ms/step \n",
            "\u001b[1m5/5\u001b[0m \u001b[32m━━━━━━━━━━━━━━━━━━━━\u001b[0m\u001b[37m\u001b[0m \u001b[1m0s\u001b[0m 9ms/step \n",
            "\u001b[1m5/5\u001b[0m \u001b[32m━━━━━━━━━━━━━━━━━━━━\u001b[0m\u001b[37m\u001b[0m \u001b[1m0s\u001b[0m 9ms/step \n",
            "\u001b[1m5/5\u001b[0m \u001b[32m━━━━━━━━━━━━━━━━━━━━\u001b[0m\u001b[37m\u001b[0m \u001b[1m0s\u001b[0m 10ms/step\n",
            "\u001b[1m5/5\u001b[0m \u001b[32m━━━━━━━━━━━━━━━━━━━━\u001b[0m\u001b[37m\u001b[0m \u001b[1m0s\u001b[0m 8ms/step \n",
            "\u001b[1m5/5\u001b[0m \u001b[32m━━━━━━━━━━━━━━━━━━━━\u001b[0m\u001b[37m\u001b[0m \u001b[1m0s\u001b[0m 14ms/step\n",
            "\u001b[1m5/5\u001b[0m \u001b[32m━━━━━━━━━━━━━━━━━━━━\u001b[0m\u001b[37m\u001b[0m \u001b[1m0s\u001b[0m 9ms/step \n",
            "\u001b[1m5/5\u001b[0m \u001b[32m━━━━━━━━━━━━━━━━━━━━\u001b[0m\u001b[37m\u001b[0m \u001b[1m0s\u001b[0m 10ms/step\n",
            "\u001b[1m5/5\u001b[0m \u001b[32m━━━━━━━━━━━━━━━━━━━━\u001b[0m\u001b[37m\u001b[0m \u001b[1m0s\u001b[0m 10ms/step\n",
            "\u001b[1m5/5\u001b[0m \u001b[32m━━━━━━━━━━━━━━━━━━━━\u001b[0m\u001b[37m\u001b[0m \u001b[1m0s\u001b[0m 10ms/step\n",
            "\u001b[1m5/5\u001b[0m \u001b[32m━━━━━━━━━━━━━━━━━━━━\u001b[0m\u001b[37m\u001b[0m \u001b[1m0s\u001b[0m 12ms/step\n",
            "\u001b[1m5/5\u001b[0m \u001b[32m━━━━━━━━━━━━━━━━━━━━\u001b[0m\u001b[37m\u001b[0m \u001b[1m0s\u001b[0m 9ms/step \n",
            "\u001b[1m5/5\u001b[0m \u001b[32m━━━━━━━━━━━━━━━━━━━━\u001b[0m\u001b[37m\u001b[0m \u001b[1m0s\u001b[0m 9ms/step \n",
            "\u001b[1m5/5\u001b[0m \u001b[32m━━━━━━━━━━━━━━━━━━━━\u001b[0m\u001b[37m\u001b[0m \u001b[1m0s\u001b[0m 10ms/step\n",
            "\u001b[1m5/5\u001b[0m \u001b[32m━━━━━━━━━━━━━━━━━━━━\u001b[0m\u001b[37m\u001b[0m \u001b[1m0s\u001b[0m 10ms/step\n",
            "\u001b[1m5/5\u001b[0m \u001b[32m━━━━━━━━━━━━━━━━━━━━\u001b[0m\u001b[37m\u001b[0m \u001b[1m0s\u001b[0m 9ms/step \n",
            "\u001b[1m5/5\u001b[0m \u001b[32m━━━━━━━━━━━━━━━━━━━━\u001b[0m\u001b[37m\u001b[0m \u001b[1m0s\u001b[0m 15ms/step\n",
            "\u001b[1m5/5\u001b[0m \u001b[32m━━━━━━━━━━━━━━━━━━━━\u001b[0m\u001b[37m\u001b[0m \u001b[1m0s\u001b[0m 12ms/step\n",
            "\u001b[1m5/5\u001b[0m \u001b[32m━━━━━━━━━━━━━━━━━━━━\u001b[0m\u001b[37m\u001b[0m \u001b[1m0s\u001b[0m 13ms/step\n",
            "\u001b[1m5/5\u001b[0m \u001b[32m━━━━━━━━━━━━━━━━━━━━\u001b[0m\u001b[37m\u001b[0m \u001b[1m0s\u001b[0m 14ms/step\n",
            "\u001b[1m5/5\u001b[0m \u001b[32m━━━━━━━━━━━━━━━━━━━━\u001b[0m\u001b[37m\u001b[0m \u001b[1m0s\u001b[0m 12ms/step\n",
            "\u001b[1m5/5\u001b[0m \u001b[32m━━━━━━━━━━━━━━━━━━━━\u001b[0m\u001b[37m\u001b[0m \u001b[1m0s\u001b[0m 12ms/step\n",
            "\u001b[1m5/5\u001b[0m \u001b[32m━━━━━━━━━━━━━━━━━━━━\u001b[0m\u001b[37m\u001b[0m \u001b[1m0s\u001b[0m 13ms/step\n",
            "\u001b[1m5/5\u001b[0m \u001b[32m━━━━━━━━━━━━━━━━━━━━\u001b[0m\u001b[37m\u001b[0m \u001b[1m0s\u001b[0m 12ms/step\n",
            "\u001b[1m5/5\u001b[0m \u001b[32m━━━━━━━━━━━━━━━━━━━━\u001b[0m\u001b[37m\u001b[0m \u001b[1m0s\u001b[0m 19ms/step\n",
            "\u001b[1m5/5\u001b[0m \u001b[32m━━━━━━━━━━━━━━━━━━━━\u001b[0m\u001b[37m\u001b[0m \u001b[1m0s\u001b[0m 13ms/step\n",
            "\u001b[1m5/5\u001b[0m \u001b[32m━━━━━━━━━━━━━━━━━━━━\u001b[0m\u001b[37m\u001b[0m \u001b[1m0s\u001b[0m 14ms/step\n",
            "\u001b[1m5/5\u001b[0m \u001b[32m━━━━━━━━━━━━━━━━━━━━\u001b[0m\u001b[37m\u001b[0m \u001b[1m0s\u001b[0m 14ms/step\n",
            "\u001b[1m5/5\u001b[0m \u001b[32m━━━━━━━━━━━━━━━━━━━━\u001b[0m\u001b[37m\u001b[0m \u001b[1m0s\u001b[0m 9ms/step \n",
            "\u001b[1m5/5\u001b[0m \u001b[32m━━━━━━━━━━━━━━━━━━━━\u001b[0m\u001b[37m\u001b[0m \u001b[1m0s\u001b[0m 11ms/step\n",
            "\u001b[1m5/5\u001b[0m \u001b[32m━━━━━━━━━━━━━━━━━━━━\u001b[0m\u001b[37m\u001b[0m \u001b[1m0s\u001b[0m 10ms/step\n",
            "\u001b[1m5/5\u001b[0m \u001b[32m━━━━━━━━━━━━━━━━━━━━\u001b[0m\u001b[37m\u001b[0m \u001b[1m0s\u001b[0m 10ms/step\n",
            "\u001b[1m5/5\u001b[0m \u001b[32m━━━━━━━━━━━━━━━━━━━━\u001b[0m\u001b[37m\u001b[0m \u001b[1m0s\u001b[0m 10ms/step\n",
            "\u001b[1m5/5\u001b[0m \u001b[32m━━━━━━━━━━━━━━━━━━━━\u001b[0m\u001b[37m\u001b[0m \u001b[1m0s\u001b[0m 9ms/step \n",
            "\u001b[1m5/5\u001b[0m \u001b[32m━━━━━━━━━━━━━━━━━━━━\u001b[0m\u001b[37m\u001b[0m \u001b[1m0s\u001b[0m 8ms/step \n",
            "\u001b[1m5/5\u001b[0m \u001b[32m━━━━━━━━━━━━━━━━━━━━\u001b[0m\u001b[37m\u001b[0m \u001b[1m0s\u001b[0m 12ms/step\n",
            "\u001b[1m5/5\u001b[0m \u001b[32m━━━━━━━━━━━━━━━━━━━━\u001b[0m\u001b[37m\u001b[0m \u001b[1m0s\u001b[0m 10ms/step\n",
            "\u001b[1m5/5\u001b[0m \u001b[32m━━━━━━━━━━━━━━━━━━━━\u001b[0m\u001b[37m\u001b[0m \u001b[1m0s\u001b[0m 9ms/step \n",
            "\u001b[1m5/5\u001b[0m \u001b[32m━━━━━━━━━━━━━━━━━━━━\u001b[0m\u001b[37m\u001b[0m \u001b[1m0s\u001b[0m 13ms/step\n",
            "\u001b[1m5/5\u001b[0m \u001b[32m━━━━━━━━━━━━━━━━━━━━\u001b[0m\u001b[37m\u001b[0m \u001b[1m0s\u001b[0m 10ms/step\n",
            "\u001b[1m5/5\u001b[0m \u001b[32m━━━━━━━━━━━━━━━━━━━━\u001b[0m\u001b[37m\u001b[0m \u001b[1m0s\u001b[0m 9ms/step \n",
            "\u001b[1m5/5\u001b[0m \u001b[32m━━━━━━━━━━━━━━━━━━━━\u001b[0m\u001b[37m\u001b[0m \u001b[1m0s\u001b[0m 11ms/step\n",
            "\u001b[1m5/5\u001b[0m \u001b[32m━━━━━━━━━━━━━━━━━━━━\u001b[0m\u001b[37m\u001b[0m \u001b[1m0s\u001b[0m 9ms/step \n",
            "\u001b[1m5/5\u001b[0m \u001b[32m━━━━━━━━━━━━━━━━━━━━\u001b[0m\u001b[37m\u001b[0m \u001b[1m0s\u001b[0m 13ms/step\n",
            "\u001b[1m5/5\u001b[0m \u001b[32m━━━━━━━━━━━━━━━━━━━━\u001b[0m\u001b[37m\u001b[0m \u001b[1m0s\u001b[0m 15ms/step\n",
            "\u001b[1m5/5\u001b[0m \u001b[32m━━━━━━━━━━━━━━━━━━━━\u001b[0m\u001b[37m\u001b[0m \u001b[1m0s\u001b[0m 11ms/step\n",
            "\u001b[1m5/5\u001b[0m \u001b[32m━━━━━━━━━━━━━━━━━━━━\u001b[0m\u001b[37m\u001b[0m \u001b[1m0s\u001b[0m 10ms/step\n",
            "\u001b[1m5/5\u001b[0m \u001b[32m━━━━━━━━━━━━━━━━━━━━\u001b[0m\u001b[37m\u001b[0m \u001b[1m0s\u001b[0m 8ms/step \n",
            "\u001b[1m5/5\u001b[0m \u001b[32m━━━━━━━━━━━━━━━━━━━━\u001b[0m\u001b[37m\u001b[0m \u001b[1m0s\u001b[0m 10ms/step\n",
            "\u001b[1m5/5\u001b[0m \u001b[32m━━━━━━━━━━━━━━━━━━━━\u001b[0m\u001b[37m\u001b[0m \u001b[1m0s\u001b[0m 9ms/step \n",
            "\u001b[1m5/5\u001b[0m \u001b[32m━━━━━━━━━━━━━━━━━━━━\u001b[0m\u001b[37m\u001b[0m \u001b[1m0s\u001b[0m 12ms/step\n",
            "\u001b[1m5/5\u001b[0m \u001b[32m━━━━━━━━━━━━━━━━━━━━\u001b[0m\u001b[37m\u001b[0m \u001b[1m0s\u001b[0m 10ms/step\n",
            "\u001b[1m5/5\u001b[0m \u001b[32m━━━━━━━━━━━━━━━━━━━━\u001b[0m\u001b[37m\u001b[0m \u001b[1m0s\u001b[0m 11ms/step\n",
            "\u001b[1m5/5\u001b[0m \u001b[32m━━━━━━━━━━━━━━━━━━━━\u001b[0m\u001b[37m\u001b[0m \u001b[1m0s\u001b[0m 11ms/step\n",
            "\u001b[1m5/5\u001b[0m \u001b[32m━━━━━━━━━━━━━━━━━━━━\u001b[0m\u001b[37m\u001b[0m \u001b[1m0s\u001b[0m 10ms/step\n",
            "\u001b[1m5/5\u001b[0m \u001b[32m━━━━━━━━━━━━━━━━━━━━\u001b[0m\u001b[37m\u001b[0m \u001b[1m0s\u001b[0m 9ms/step \n",
            "\u001b[1m5/5\u001b[0m \u001b[32m━━━━━━━━━━━━━━━━━━━━\u001b[0m\u001b[37m\u001b[0m \u001b[1m0s\u001b[0m 9ms/step \n"
          ]
        },
        {
          "output_type": "display_data",
          "data": {
            "text/plain": [
              "<Figure size 1000x600 with 1 Axes>"
            ],
            "image/png": "[encoded data removed]"
          },
          "metadata": {}
        }
      ]
    },
    {
      "cell_type": "markdown",
      "source": [
        "#9"
      ],
      "metadata": {
        "id": "UUUvB_vNgA4v"
      },
      "id": "UUUvB_vNgA4v"
    },
    {
      "cell_type": "markdown",
      "source": [
        "## Model Saving and Making a Sample Prediction"
      ],
      "metadata": {
        "id": "qfVknXGld2Et"
      },
      "id": "qfVknXGld2Et"
    },
    {
      "cell_type": "code",
      "execution_count": null,
      "id": "518e55d3-134d-481a-82e2-3005c720dee4",
      "metadata": {
        "id": "518e55d3-134d-481a-82e2-3005c720dee4",
        "colab": {
          "base_uri": "https://localhost:8080/"
        },
        "outputId": "ef4e82b8-016f-4e3f-c531-f493924446a0"
      },
      "outputs": [
        {
          "output_type": "stream",
          "name": "stderr",
          "text": [
            "WARNING:absl:You are saving your model as an HDF5 file via `model.save()` or `keras.saving.save_model(model)`. This file format is considered legacy. We recommend using instead the native Keras format, e.g. `model.save('my_model.keras')` or `keras.saving.save_model(model, 'my_model.keras')`. \n"
          ]
        },
        {
          "output_type": "stream",
          "name": "stdout",
          "text": [
            "\n",
            "Model saved as 'student_performance_dnn_model.h5'\n",
            "\u001b[1m1/1\u001b[0m \u001b[32m━━━━━━━━━━━━━━━━━━━━\u001b[0m\u001b[37m\u001b[0m \u001b[1m0s\u001b[0m 298ms/step\n",
            "\n",
            "Sample Prediction:\n",
            "Student Features:\n",
            "   Gender  Study_Hours_per_Week  Attendance_Rate  Past_Exam_Scores  \\\n",
            "0     1.0                  18.0        58.276026              82.0   \n",
            "\n",
            "   Parental_Education_Level  Internet_Access_at_Home  \\\n",
            "0                       1.0                      1.0   \n",
            "\n",
            "   Extracurricular_Activities  \n",
            "0                         1.0  \n",
            "\n",
            "Predicted Probability of Passing: 0.4469\n",
            "Predicted Class: Fail\n"
          ]
        }
      ],
      "source": [
        "# Save the trained deep learning model to an HDF5 file\n",
        "# This allows us to reuse or deploy the model later without retraining\n",
        "model.save('student_performance_dnn_model.h5')\n",
        "print(\"\\nModel saved as 'student_performance_dnn_model.h5'\")\n",
        "\n",
        "# Make a prediction on a single student sample\n",
        "# Select the first sample from the test dataset\n",
        "sample_student = X_test[0:1]  # Take the first test sample\n",
        "\n",
        "# Predict the probability of passing using the trained model\n",
        "prediction_prob = model.predict(sample_student)[0][0]\n",
        "\n",
        "# Convert the probability into a class label (threshold = 0.5)\n",
        "prediction = 'Pass' if prediction_prob > 0.5 else 'Fail'\n",
        "\n",
        "# Display the prediction result\n",
        "print(\"\\nSample Prediction:\")\n",
        "print(\"Student Features:\")\n",
        "# Inverse transform to show original scale of the features\n",
        "print(pd.DataFrame(scaler.inverse_transform(sample_student), columns=X.columns))\n",
        "\n",
        "print(f\"\\nPredicted Probability of Passing: {prediction_prob:.4f}\")\n",
        "print(f\"Predicted Class: {prediction}\")"
      ]
    },
    {
      "cell_type": "markdown",
      "source": [
        "# 10"
      ],
      "metadata": {
        "id": "o_XxJargMPNx"
      },
      "id": "o_XxJargMPNx"
    },
    {
      "cell_type": "markdown",
      "source": [
        "## Conclusion and Goal Assessment\n",
        "---\n",
        "\n",
        "## Objective\n",
        "\n",
        "To build a machine learning model that can accurately predict whether a student will **Pass** or **Fail**, based on features such as:\n",
        "\n",
        "- Attendance\n",
        "- Study Hours\n",
        "- Past Exam Scores\n",
        "- Behavioral and engagement metrics (if any)\n",
        "\n",
        "This model should assist educators in identifying students at risk of failure early enough to enable timely intervention and support.\n",
        "\n",
        "---\n",
        "\n",
        "##  Goal Statement\n",
        "\n",
        "The success criteria defined at the outset were:\n",
        "\n",
        "- **Minimum target accuracy**: ≥ 75%\n",
        "- **Balanced performance** across both \"Pass\" and \"Fail\" classes\n",
        "- **No severe overfitting**\n",
        "- **Actionable interpretability** for educators\n",
        "\n",
        "---\n",
        "\n",
        "## Goal Evaluation\n",
        "\n",
        "| Goal                              | Outcome                               | Status       |\n",
        "|-----------------------------------|----------------------------------------|--------------|\n",
        "| **Accuracy ≥ 75%**                | **79.6%** achieved                     | ✅ Met       |\n",
        "| **Balanced class performance**    | Precision & recall balanced (≈ 77–82%) | ✅ Met       |\n",
        "| **No severe overfitting**         | Train/validation loss & accuracy aligned | ✅ Met    |\n",
        "| **Interpretability**              | Individual prediction interpreted      | ✅ Met (basic) |\n",
        "\n",
        "### **Conclusion: The modeling objective was successfully met.**\n",
        "\n",
        "The model not only surpassed the minimum accuracy threshold but also maintained consistent validation performance, showed no signs of overfitting, and produced outputs that can be interpreted on a student-level basis. With additional tools like SHAP or LIME, interpretability can be further improved.\n",
        "\n",
        "---\n",
        "\n",
        "## Model Overview\n",
        "\n",
        "The classifier is a **Deep Neural Network (DNN)** consisting of multiple hidden layers with dropout and batch normalization for regularization. The final layer uses a sigmoid activation function, making this a binary classification model.\n",
        "\n",
        "### Model Architecture Summary\n",
        "\n",
        "| Component       | Description                                                      |\n",
        "|----------------|------------------------------------------------------------------|\n",
        "| Input Layer     | Standardized input features                                      |\n",
        "| Hidden Layers   | 3 dense layers (128 → 64 → 32 units) with **ReLU**, Batch Norm, and Dropout |\n",
        "| Output Layer    | 1 neuron, **Sigmoid** activation for binary prediction           |\n",
        "| Regularization  | Dropout used to prevent overfitting                              |\n",
        "| Parameters      | ~11,800 trainable parameters                                     |\n",
        "\n",
        "The architecture is well-balanced and leverages best practices in regularization and gradient flow (batch norm + dropout).\n",
        "\n",
        "---\n",
        "\n",
        "## Model Performance Metrics\n",
        "\n",
        "### Confusion Matrix\n",
        "\n",
        "|                          | Predicted: Fail | Predicted: Pass |\n",
        "|--------------------------|----------------|-----------------|\n",
        "| **Actual: Fail**         | 57 (True Negatives) | 12 (False Positives) |\n",
        "| **Actual: Pass**         | 17 (False Negatives) | 56 (True Positives) |\n",
        "\n",
        "> Total Samples: 142 (69 Fail, 73 Pass)\n",
        "\n",
        "---\n",
        "\n",
        "### Key Evaluation Metrics\n",
        "\n",
        "| Metric                     | Value   | Meaning                                                                 |\n",
        "|----------------------------|---------|-------------------------------------------------------------------------|\n",
        "| **Accuracy**               | 79.6%   | Model correctly predicted 113 out of 142 cases                          |\n",
        "| **Precision (Pass)**       | 82.4%   | When the model predicts \"Pass\", it is correct 82.4% of the time         |\n",
        "| **Recall (Pass)**          | 76.7%   | Model correctly identifies 76.7% of actual pass cases                   |\n",
        "| **F1-Score (Pass)**        | 79.4%   | Harmonic mean of precision and recall                                   |\n",
        "| **Specificity (Fail)**     | 82.6%   | Model correctly identifies 82.6% of actual fail cases                   |\n",
        "| **AUC (Validation)**       | ~0.91–0.93 | Excellent separation between classes                                  |\n",
        "\n",
        "The model performs strongly across all metrics, especially AUC, suggesting robust decision boundaries.\n",
        "\n",
        "**Key Errors**:\n",
        "- **17 False Negatives**: Students predicted to fail but actually passed.\n",
        "- **12 False Positives**: Students predicted to pass but actually failed.\n",
        "\n",
        "---\n",
        "\n",
        "## Training Dynamics\n",
        "\n",
        "### Accuracy Curve (Train vs. Validation)\n",
        "\n",
        "- Rapid accuracy increase in the first 5–10 epochs.\n",
        "- Validation accuracy consistently **slightly higher** than training accuracy.\n",
        "  - Possible causes: Dropout applied only during training, small validation set, or clean validation data.\n",
        "\n",
        "### Loss Curve (Train vs. Validation)\n",
        "\n",
        "- Both training and validation loss decreased steadily.\n",
        "- No divergence observed, indicating **no overfitting**.\n",
        "- Final loss values were low (~0.9), with tight coupling between the two curves.\n",
        "\n",
        "**Conclusion**: Model training was stable and effective. Learning converged with generalization intact.\n",
        "\n",
        "---\n",
        "\n",
        "## Model Interpretability – Case-Level Analysis\n",
        "\n",
        "### Sample Prediction\n",
        "\n",
        "- **Input**:  \n",
        "  - Attendance: 58%  \n",
        "  - Study Hours: 18/week  \n",
        "  - Past Exam Score: 82  \n",
        "- **Prediction**: **Fail**  \n",
        "- **Probability**: 0.4469\n",
        "\n",
        "**Interpretation**:  \n",
        "Despite a high past score, **low attendance** dragged the prediction down. This suggests that the model correctly identifies **attendance** as a dominant factor in outcome — aligning with real-world academic risk signals.\n",
        "\n",
        "---\n",
        "\n",
        "## Classification Report\n",
        "\n",
        "| Class      | Precision | Recall | F1-score | Support |\n",
        "|------------|-----------|--------|----------|---------|\n",
        "| **Fail**   | 77.0%     | 82.6%  | 79.7%    | 69      |\n",
        "| **Pass**   | 82.4%     | 76.7%  | 79.4%    | 73      |\n",
        "| **Overall**| —         | —      | **79.6% (avg)** | 142 |\n",
        "\n",
        "- Both classes are predicted with similar balance.\n",
        "- Slight favor towards precision over recall for \"Pass\" class.\n",
        "\n",
        "---\n",
        "\n",
        "## Recommendations for Improvement\n",
        "\n",
        "### Model-Level Enhancements\n",
        "\n",
        "| Action                      | Rationale                                                   |\n",
        "|----------------------------|-------------------------------------------------------------|\n",
        "| **Early Stopping**         | Prevent unnecessary training and possible overfitting       |\n",
        "| **Threshold Optimization** | Use ROC curve to shift decision threshold for better balance|\n",
        "| **Class Weights / SMOTE**  | Handle mild class imbalance (69 vs 73)                      |\n",
        "| **Cross-Validation**       | Improve model robustness and reduce variance                |\n",
        "| **Hyperparameter Tuning**  | Optimize dropout rates, batch size, learning rate, etc.     |\n",
        "\n",
        "---\n",
        "\n",
        "### Interpretability & Explainability\n",
        "\n",
        "| Action                | Tool        | Benefit                                                 |\n",
        "|-----------------------|-------------|----------------------------------------------------------|\n",
        "| **SHAP Analysis**     | SHAP values | Explain individual predictions and global feature importance |\n",
        "| **LIME**              | LIME        | Understand decision for a specific student               |\n",
        "| **Feature Importance**| Permutation or SHAP | Identify key predictors driving decisions          |\n",
        "\n",
        "---\n",
        "\n",
        "## Final Verdict\n",
        "\n",
        "This deep learning model meets and exceeds the defined performance and quality benchmarks. It is suitable for real-world deployment in educational institutions to:\n",
        "\n",
        "- Identify at-risk students early.\n",
        "- Provide data-driven intervention planning.\n",
        "- Improve graduation/pass rates.\n",
        "\n",
        "> **Goal Met: YES** — With room to evolve into an interpretable and reliable AI assistant for student performance analysis.\n",
        "\n",
        "---\n"
      ],
      "metadata": {
        "id": "l1gJcsZwnIGB"
      },
      "id": "l1gJcsZwnIGB"
    }
  ],
  "metadata": {
    "kernelspec": {
      "display_name": "Python [conda env:base] *",
      "language": "python",
      "name": "conda-base-py"
    },
    "language_info": {
      "codemirror_mode": {
        "name": "ipython",
        "version": 3
      },
      "file_extension": ".py",
      "mimetype": "text/x-python",
      "name": "python",
      "nbconvert_exporter": "python",
      "pygments_lexer": "ipython3",
      "version": "3.12.7"
    },
    "colab": {
      "provenance": []
    }
  },
  "nbformat": 4,
  "nbformat_minor": 5
}